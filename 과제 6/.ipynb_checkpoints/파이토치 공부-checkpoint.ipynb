{
 "cells": [
  {
   "cell_type": "code",
   "execution_count": 17,
   "id": "0518399b",
   "metadata": {},
   "outputs": [
    {
     "name": "stdout",
     "output_type": "stream",
     "text": [
      "['MNIST_data', '.DS_Store', 'test.csv', 'submission.csv', '과제물6.pdf', '파이토치 공부.ipynb', 'graph.png', 'train.csv', '.ipynb_checkpoints', '과제6_18010244_김동요.ipynb']\n"
     ]
    }
   ],
   "source": [
    "import numpy as np\n",
    "import pandas as pd \n",
    "\n",
    "\n",
    "import matplotlib.pyplot as plt\n",
    "\n",
    "import os \n",
    "\n",
    "print(os.listdir('./'))\n",
    "\n",
    "import torch.nn as nn \n",
    "import warnings\n",
    "warnings.filterwarnings(\"ignore\")\n",
    "\n",
    "from sklearn.model_selection import train_test_split\n",
    "\n",
    "from torch.utils.data import DataLoader"
   ]
  },
  {
   "cell_type": "code",
   "execution_count": 18,
   "id": "60fc625c",
   "metadata": {},
   "outputs": [
    {
     "name": "stdout",
     "output_type": "stream",
     "text": [
      "Array Type: <class 'numpy.ndarray'>\n",
      "Array Shape: (2, 3)\n",
      "[[1 2 3]\n",
      " [4 5 6]]\n"
     ]
    }
   ],
   "source": [
    "array = [[1, 2, 3], [4, 5, 6]]\n",
    "\n",
    "first_array  = np.array(array) \n",
    "\n",
    "print('Array Type: {}'.format(type(first_array))) # type\n",
    "\n",
    "print('Array Shape: {}'.format(np.shape(first_array)))\n",
    "\n",
    "print(first_array)"
   ]
  },
  {
   "cell_type": "code",
   "execution_count": 19,
   "id": "4032ee08",
   "metadata": {},
   "outputs": [
    {
     "name": "stdout",
     "output_type": "stream",
     "text": [
      "Array Type: <built-in method type of Tensor object at 0x17ee06d40>\n",
      "Array Shape: torch.Size([2, 3])\n",
      "tensor([[1., 2., 3.],\n",
      "        [4., 5., 6.]])\n"
     ]
    }
   ],
   "source": [
    "import torch\n",
    "\n",
    "# pytorch array\n",
    "tensor = torch.Tensor(array)\n",
    "\n",
    "print(\"Array Type: {}\".format(tensor.type)) # type\n",
    "print(\"Array Shape: {}\".format(tensor.shape)) # shape\n",
    "print(tensor)"
   ]
  },
  {
   "cell_type": "code",
   "execution_count": 20,
   "id": "a083ad0b",
   "metadata": {},
   "outputs": [
    {
     "name": "stdout",
     "output_type": "stream",
     "text": [
      "Numpy [[1. 1. 1.]\n",
      " [1. 1. 1.]]\n",
      "\n",
      "tensor([[1., 1., 1.],\n",
      "        [1., 1., 1.]])\n"
     ]
    }
   ],
   "source": [
    "print('Numpy {}\\n'.format(np.ones((2, 3))))\n",
    "\n",
    "\n",
    "print(torch.ones((2, 3)))"
   ]
  },
  {
   "cell_type": "code",
   "execution_count": 21,
   "id": "00e5b5c2",
   "metadata": {},
   "outputs": [
    {
     "name": "stdout",
     "output_type": "stream",
     "text": [
      "Numpy [[0.32449065 0.71151147 0.2390174 ]\n",
      " [0.46198529 0.90289081 0.2862783 ]]\n",
      "\n",
      "tensor([[0.4335, 0.7387, 0.7702],\n",
      "        [0.2596, 0.8329, 0.8855]])\n"
     ]
    }
   ],
   "source": [
    "print('Numpy {}\\n'.format(np.random.rand(2, 3)))\n",
    "\n",
    "print(torch.rand(2, 3))"
   ]
  },
  {
   "cell_type": "code",
   "execution_count": 22,
   "id": "088b40c4",
   "metadata": {},
   "outputs": [
    {
     "name": "stdout",
     "output_type": "stream",
     "text": [
      "<class 'numpy.ndarray'> [[0.21946786 0.49062886]\n",
      " [0.10738375 0.57879945]]\n",
      "\n",
      "tensor([[0.2195, 0.4906],\n",
      "        [0.1074, 0.5788]], dtype=torch.float64)\n",
      "\n",
      "<class 'numpy.ndarray'> [[0.21946786 0.49062886]\n",
      " [0.10738375 0.57879945]]\n",
      "\n"
     ]
    }
   ],
   "source": [
    "array = np.random.rand(2, 2)\n",
    "print(\"{} {}\\n\".format(type(array),array))\n",
    "\n",
    "from_numpy_to_tensor = torch.from_numpy(array)\n",
    "print(\"{}\\n\".format(from_numpy_to_tensor))\n",
    "\n",
    "# from tensor to numpy\n",
    "tensor = from_numpy_to_tensor\n",
    "from_tensor_to_numpy = tensor.numpy()\n",
    "print(\"{} {}\\n\".format(type(from_tensor_to_numpy),from_tensor_to_numpy))"
   ]
  },
  {
   "cell_type": "code",
   "execution_count": 23,
   "id": "248aee9c",
   "metadata": {},
   "outputs": [
    {
     "name": "stdout",
     "output_type": "stream",
     "text": [
      "\n",
      " tensor([[1., 1., 1.],\n",
      "        [1., 1., 1.],\n",
      "        [1., 1., 1.]])\n",
      "torch.Size([9])tensor([1., 1., 1., 1., 1., 1., 1., 1., 1.])\n",
      "\n",
      "Addition: tensor([[2., 2., 2.],\n",
      "        [2., 2., 2.],\n",
      "        [2., 2., 2.]])\n",
      "\n",
      "Subtraction: tensor([[0., 0., 0.],\n",
      "        [0., 0., 0.],\n",
      "        [0., 0., 0.]])\n",
      "\n",
      "Element wise multiplication: tensor([[1., 1., 1.],\n",
      "        [1., 1., 1.],\n",
      "        [1., 1., 1.]])\n",
      "\n",
      "Element wise division: tensor([[1., 1., 1.],\n",
      "        [1., 1., 1.],\n",
      "        [1., 1., 1.]])\n",
      "\n",
      "Mean: 3.0\n",
      "std: 1.5811388492584229\n"
     ]
    }
   ],
   "source": [
    "# create tensor \n",
    "tensor = torch.ones(3,3)\n",
    "print(\"\\n\",tensor)\n",
    "\n",
    "\n",
    "# Resize\n",
    "print(\"{}{}\\n\".format(tensor.view(9).shape,tensor.view(9)))\n",
    "\n",
    "# Addition\n",
    "print(\"Addition: {}\\n\".format(torch.add(tensor,tensor)))\n",
    "\n",
    "# Subtraction\n",
    "print(\"Subtraction: {}\\n\".format(tensor.sub(tensor)))\n",
    "\n",
    "# Element wise multiplication\n",
    "print(\"Element wise multiplication: {}\\n\".format(torch.mul(tensor,tensor)))\n",
    "\n",
    "# Element wise division\n",
    "print(\"Element wise division: {}\\n\".format(torch.div(tensor,tensor)))\n",
    "\n",
    "# Mean\n",
    "tensor = torch.Tensor([1,2,3,4,5])\n",
    "print(\"Mean: {}\".format(tensor.mean()))\n",
    "\n",
    "# Standart deviation (std)\n",
    "print(\"std: {}\".format(tensor.std()))"
   ]
  },
  {
   "cell_type": "code",
   "execution_count": 24,
   "id": "bc6696ca",
   "metadata": {},
   "outputs": [
    {
     "data": {
      "text/plain": [
       "tensor([1., 1., 1.], requires_grad=True)"
      ]
     },
     "execution_count": 24,
     "metadata": {},
     "output_type": "execute_result"
    }
   ],
   "source": [
    "from torch.autograd import Variable\n",
    "\n",
    "\n",
    "# define variable\n",
    "var = Variable(torch.ones(3),requires_grad=True)\n",
    "var"
   ]
  },
  {
   "cell_type": "code",
   "execution_count": 25,
   "id": "a9f6cd1c",
   "metadata": {},
   "outputs": [
    {
     "name": "stdout",
     "output_type": "stream",
     "text": [
      " y =  tensor([ 4., 16.], grad_fn=<PowBackward0>)\n",
      " o =   tensor(10., grad_fn=<MulBackward0>)\n",
      "gradients:  tensor([2., 4.])\n"
     ]
    }
   ],
   "source": [
    "array = [2, 4]\n",
    "\n",
    "tensor = torch.Tensor(array)\n",
    "x = Variable(tensor, requires_grad=True)\n",
    "y = x**2\n",
    "\n",
    "print(\" y = \", y)\n",
    "\n",
    "\n",
    "# recap o equation o = 1/2*sum(y)\n",
    "\n",
    "o = (1/2)*sum(y)\n",
    "print(\" o =  \",o)\n",
    "\n",
    "# backward\n",
    "o.backward()\n",
    "\n",
    "print(\"gradients: \",x.grad)"
   ]
  },
  {
   "cell_type": "code",
   "execution_count": 26,
   "id": "4923ebb5",
   "metadata": {},
   "outputs": [
    {
     "ename": "NameError",
     "evalue": "name 'car_price_array' is not defined",
     "output_type": "error",
     "traceback": [
      "\u001b[0;31m---------------------------------------------------------------------------\u001b[0m",
      "\u001b[0;31mNameError\u001b[0m                                 Traceback (most recent call last)",
      "Cell \u001b[0;32mIn [26], line 2\u001b[0m\n\u001b[1;32m      1\u001b[0m car_prices_array \u001b[38;5;241m=\u001b[39m [\u001b[38;5;241m3\u001b[39m, \u001b[38;5;241m4\u001b[39m ,\u001b[38;5;241m5\u001b[39m, \u001b[38;5;241m6\u001b[39m, \u001b[38;5;241m7\u001b[39m, \u001b[38;5;241m8\u001b[39m, \u001b[38;5;241m9\u001b[39m]\n\u001b[0;32m----> 2\u001b[0m car_prices_np \u001b[38;5;241m=\u001b[39m np\u001b[38;5;241m.\u001b[39marray(\u001b[43mcar_price_array\u001b[49m, dtype\u001b[38;5;241m=\u001b[39mnp\u001b[38;5;241m.\u001b[39mfloat32)\n\u001b[1;32m      3\u001b[0m car_prices_np \u001b[38;5;241m=\u001b[39m car_price_np\u001b[38;5;241m.\u001b[39mreshape(\u001b[38;5;241m-\u001b[39m\u001b[38;5;241m1\u001b[39m,\u001b[38;5;241m1\u001b[39m)\n\u001b[1;32m      5\u001b[0m car_prices_tensor \u001b[38;5;241m=\u001b[39m Variable(torch\u001b[38;5;241m.\u001b[39mfrom_numpy(car_price_np))\n",
      "\u001b[0;31mNameError\u001b[0m: name 'car_price_array' is not defined"
     ]
    }
   ],
   "source": [
    "car_prices_array = [3, 4 ,5, 6, 7, 8, 9]\n",
    "car_prices_np = np.array(car_price_array, dtype=np.float32)\n",
    "car_prices_np = car_price_np.reshape(-1,1)\n",
    "\n",
    "car_prices_tensor = Variable(torch.from_numpy(car_price_np))\n",
    "\n",
    "\n",
    "# lets define number of car sell\n",
    "number_of_car_sell_array = [ 7.5, 7, 6.5, 6.0, 5.5, 5.0, 4.5]\n",
    "number_of_car_sell_np = np.array(number_of_car_sell_array,dtype=np.float32)\n",
    "number_of_car_sell_np = number_of_car_sell_np.reshape(-1,1)\n",
    "number_of_car_sell_tensor = Variable(torch.from_numpy(number_of_car_sell_np))"
   ]
  },
  {
   "cell_type": "code",
   "execution_count": 27,
   "id": "c724488c",
   "metadata": {},
   "outputs": [
    {
     "ename": "NameError",
     "evalue": "name 'number_of_car_sell_array' is not defined",
     "output_type": "error",
     "traceback": [
      "\u001b[0;31m---------------------------------------------------------------------------\u001b[0m",
      "\u001b[0;31mNameError\u001b[0m                                 Traceback (most recent call last)",
      "Cell \u001b[0;32mIn [27], line 3\u001b[0m\n\u001b[1;32m      1\u001b[0m \u001b[38;5;66;03m# lets visualize our data\u001b[39;00m\n\u001b[1;32m      2\u001b[0m \u001b[38;5;28;01mimport\u001b[39;00m \u001b[38;5;21;01mmatplotlib\u001b[39;00m\u001b[38;5;21;01m.\u001b[39;00m\u001b[38;5;21;01mpyplot\u001b[39;00m \u001b[38;5;28;01mas\u001b[39;00m \u001b[38;5;21;01mplt\u001b[39;00m\n\u001b[0;32m----> 3\u001b[0m plt\u001b[38;5;241m.\u001b[39mscatter(car_prices_array,\u001b[43mnumber_of_car_sell_array\u001b[49m)\n\u001b[1;32m      4\u001b[0m plt\u001b[38;5;241m.\u001b[39mxlabel(\u001b[38;5;124m\"\u001b[39m\u001b[38;5;124mCar Price $\u001b[39m\u001b[38;5;124m\"\u001b[39m)\n\u001b[1;32m      5\u001b[0m plt\u001b[38;5;241m.\u001b[39mylabel(\u001b[38;5;124m\"\u001b[39m\u001b[38;5;124mNumber of Car Sell\u001b[39m\u001b[38;5;124m\"\u001b[39m)\n",
      "\u001b[0;31mNameError\u001b[0m: name 'number_of_car_sell_array' is not defined"
     ]
    }
   ],
   "source": [
    "# lets visualize our data\n",
    "import matplotlib.pyplot as plt\n",
    "plt.scatter(car_prices_array,number_of_car_sell_array)\n",
    "plt.xlabel(\"Car Price $\")\n",
    "plt.ylabel(\"Number of Car Sell\")\n",
    "plt.title(\"Car Price$ VS Number of Car Sell\")\n",
    "plt.show()"
   ]
  },
  {
   "cell_type": "code",
   "execution_count": 14,
   "id": "8e492a5c",
   "metadata": {},
   "outputs": [],
   "source": [
    "# create class\n",
    "\n",
    "class LinearRegression(nn.Module):\n",
    "    def __init__(self, input_size, output_size):\n",
    "        \n",
    "        super(LinearRegression, self).__init__()\n",
    "        \n",
    "        # 선형식\n",
    "        self.linear = nn.Linear(input_dim, output_dim)\n",
    "        \n",
    "        \n",
    "        \n",
    "        \n",
    "    def forward(self, x):\n",
    "        return self.linear(x)\n"
   ]
  },
  {
   "cell_type": "code",
   "execution_count": 15,
   "id": "3009af0a",
   "metadata": {},
   "outputs": [
    {
     "ename": "NameError",
     "evalue": "name 'car_price_tensor' is not defined",
     "output_type": "error",
     "traceback": [
      "\u001b[0;31m---------------------------------------------------------------------------\u001b[0m",
      "\u001b[0;31mNameError\u001b[0m                                 Traceback (most recent call last)",
      "Cell \u001b[0;32mIn [15], line 29\u001b[0m\n\u001b[1;32m     26\u001b[0m optimizer\u001b[38;5;241m.\u001b[39mzero_grad()\n\u001b[1;32m     28\u001b[0m \u001b[38;5;66;03m# Forwardabs \u001b[39;00m\n\u001b[0;32m---> 29\u001b[0m results \u001b[38;5;241m=\u001b[39m model(\u001b[43mcar_price_tensor\u001b[49m)\n\u001b[1;32m     31\u001b[0m \u001b[38;5;66;03m# loss\u001b[39;00m\n\u001b[1;32m     32\u001b[0m loss \u001b[38;5;241m=\u001b[39m mse(results, number_of_car_sell_tensor)\n",
      "\u001b[0;31mNameError\u001b[0m: name 'car_price_tensor' is not defined"
     ]
    }
   ],
   "source": [
    "# define model \n",
    "\n",
    "input_dim = 1 \n",
    "output_dim = 1\n",
    "\n",
    "model = LinearRegression(input_dim, output_dim)\n",
    "\n",
    "# MSE \n",
    "mse = nn.MSELoss()\n",
    "\n",
    "# Optimization (find parameters that minimize error)\n",
    "learning_rate = 0.02\n",
    "\n",
    "\n",
    "# 스토케스틱 경사하강법 \n",
    "optimizer = torch.optim.SGD(model.parameters(),lr = learning_rate)\n",
    "\n",
    "\n",
    "# train_model \n",
    "loss_list = []\n",
    "iteration_number = 1001\n",
    "\n",
    "for iteration in range(iteration_number):\n",
    "    \n",
    "    # optimization \n",
    "    optimizer.zero_grad()\n",
    "    \n",
    "    # Forwardabs \n",
    "    results = model(car_price_tensor)\n",
    "    \n",
    "    # loss\n",
    "    loss = mse(results, number_of_car_sell_tensor)\n",
    "    \n",
    "    # backward propagation\n",
    "    loss.backward()\n",
    "    \n",
    "    # update \n",
    "    optimizer.step()\n",
    "    \n",
    "    # store loss\n",
    "    loss_list.append(loss.data)\n",
    "    \n",
    "    if(iteration % 50 == 0):\n",
    "        print('epoch {}, loss {}'.format(iteration, loss.data))\n",
    "\n",
    "plt.plot(range(iteration_number),loss_list)\n",
    "plt.xlabel(\"Number of Iterations\")\n",
    "plt.ylabel(\"Loss\")\n",
    "plt.show()"
   ]
  },
  {
   "cell_type": "code",
   "execution_count": 16,
   "id": "a2dd28ee",
   "metadata": {},
   "outputs": [
    {
     "ename": "NameError",
     "evalue": "name 'car_prices_tensor' is not defined",
     "output_type": "error",
     "traceback": [
      "\u001b[0;31m---------------------------------------------------------------------------\u001b[0m",
      "\u001b[0;31mNameError\u001b[0m                                 Traceback (most recent call last)",
      "Cell \u001b[0;32mIn [16], line 2\u001b[0m\n\u001b[1;32m      1\u001b[0m \u001b[38;5;66;03m# predict our car price \u001b[39;00m\n\u001b[0;32m----> 2\u001b[0m predicted \u001b[38;5;241m=\u001b[39m model(\u001b[43mcar_prices_tensor\u001b[49m)\n",
      "\u001b[0;31mNameError\u001b[0m: name 'car_prices_tensor' is not defined"
     ]
    }
   ],
   "source": [
    "# predict our car price \n",
    "predicted = model(car_prices_tensor)"
   ]
  },
  {
   "cell_type": "code",
   "execution_count": 56,
   "id": "a011b550",
   "metadata": {},
   "outputs": [],
   "source": [
    "# predict our car price \n",
    "predicted = model(car_prices_tensor).data.numpy()"
   ]
  },
  {
   "cell_type": "code",
   "execution_count": 64,
   "id": "a7030583",
   "metadata": {},
   "outputs": [],
   "source": [
    "array = [10]\n",
    "\n",
    "array = torch.Tensor(array)"
   ]
  },
  {
   "cell_type": "code",
   "execution_count": 65,
   "id": "fbe58260",
   "metadata": {},
   "outputs": [
    {
     "data": {
      "text/plain": [
       "array([4.0825987], dtype=float32)"
      ]
     },
     "execution_count": 65,
     "metadata": {},
     "output_type": "execute_result"
    }
   ],
   "source": [
    "model(array).data.numpy()"
   ]
  },
  {
   "cell_type": "code",
   "execution_count": 61,
   "id": "82927ba9",
   "metadata": {},
   "outputs": [
    {
     "data": {
      "image/png": "[encoded data removed]",
      "text/plain": [
       "<Figure size 640x480 with 1 Axes>"
      ]
     },
     "metadata": {},
     "output_type": "display_data"
    }
   ],
   "source": [
    "plt.scatter(car_prices_array,number_of_car_sell_array,label = \"original data\",color =\"red\")\n",
    "plt.scatter(car_prices_array,predicted,label = \"predicted data\",color =\"blue\")\n",
    "\n",
    "plt.legend()\n",
    "plt.xlabel(\"Car Price $\")\n",
    "plt.ylabel(\"Number of Car Sell\")\n",
    "plt.title(\"Original vs Predicted values\")\n",
    "plt.show()\n"
   ]
  },
  {
   "cell_type": "code",
   "execution_count": 28,
   "id": "60e59f5c",
   "metadata": {},
   "outputs": [],
   "source": [
    "train = pd.read_csv('/Users/dongyokim/main/jupyter/2022:2/인공지능/과제 6/train.csv', dtype= np.float32, index_col=0)"
   ]
  },
  {
   "cell_type": "code",
   "execution_count": 29,
   "id": "8513e07d",
   "metadata": {},
   "outputs": [],
   "source": [
    "targets_numpy = train.label.values\n",
    "features_numpy = train.loc[:, train.columns != 'label'].values/255 # 정규화"
   ]
  },
  {
   "cell_type": "code",
   "execution_count": 30,
   "id": "d854e831",
   "metadata": {},
   "outputs": [],
   "source": [
    "# 데이터 분할\n",
    "X_train, X_test, y_train, y_test = train_test_split(features_numpy,\n",
    "                                                    targets_numpy,\n",
    "                                                    test_size = 0.2,\n",
    "                                                    random_state = 42) "
   ]
  },
  {
   "cell_type": "code",
   "execution_count": 31,
   "id": "54610f14",
   "metadata": {},
   "outputs": [],
   "source": [
    "# 그래디언트를 구하기 위해 먼저 텐서를 만들어주자\n",
    "\n",
    "X_train = torch.from_numpy(X_train)\n",
    "X_test = torch.from_numpy(X_test)\n",
    "\n",
    "y_train = torch.from_numpy(y_train).type(torch.LongTensor)\n",
    "y_test = torch.from_numpy(y_test).type(torch.LongTensor)"
   ]
  },
  {
   "cell_type": "code",
   "execution_count": 32,
   "id": "6de67d19",
   "metadata": {},
   "outputs": [],
   "source": [
    "# 배치 사이즈와 에포크, iteration 설정\n",
    "\n",
    "batch_size = 100\n",
    "n_iters = 10000\n",
    "\n",
    "num_epochs = n_iters / (len(X_train) / batch_size)\n",
    "\n",
    "num_epochs = int(num_epochs)"
   ]
  },
  {
   "cell_type": "code",
   "execution_count": 33,
   "id": "22be2a8d",
   "metadata": {},
   "outputs": [],
   "source": [
    "# Pytorch 트레인셋 테스트셋\n",
    "train = torch.utils.data.TensorDataset(X_train, y_train)\n",
    "\n",
    "test = torch.utils.data.TensorDataset(X_test, y_test)"
   ]
  },
  {
   "cell_type": "code",
   "execution_count": 34,
   "id": "cb465783",
   "metadata": {},
   "outputs": [],
   "source": [
    "# data loader\n",
    "train_loader = DataLoader(train, batch_size = batch_size, shuffle = False)\n",
    "test_loader = DataLoader(test, batch_size = batch_size, shuffle = False)\n"
   ]
  },
  {
   "cell_type": "code",
   "execution_count": 35,
   "id": "028a54af",
   "metadata": {},
   "outputs": [
    {
     "data": {
      "image/png": "[encoded data removed]",
      "text/plain": [
       "<Figure size 640x480 with 1 Axes>"
      ]
     },
     "metadata": {},
     "output_type": "display_data"
    }
   ],
   "source": [
    "plt.imshow(features_numpy[10].reshape(28,28))\n",
    "plt.axis(\"off\")\n",
    "plt.title(str(targets_numpy[10]))\n",
    "plt.savefig('graph.png')\n",
    "plt.show()"
   ]
  },
  {
   "cell_type": "code",
   "execution_count": 36,
   "id": "0663f41b",
   "metadata": {},
   "outputs": [],
   "source": [
    "# 로지스틱 함수 구현 \n",
    "class LogisticRegressionModel(nn.Module):\n",
    "    def __init__(self, input_dim, output_dim):\n",
    "        super(LogisticRegressionModel, self).__init__()\n",
    "        \n",
    "        self.linear = nn.Linear(input_dim, output_dim)\n",
    "        \n",
    "    # 파이토치에는 로지스틱 함수가 손실함수에만 있다.     \n",
    "    def forward(self, x):\n",
    "        out = self.linear(x)\n",
    "        return out\n"
   ]
  },
  {
   "cell_type": "code",
   "execution_count": 37,
   "id": "a99b2361",
   "metadata": {},
   "outputs": [],
   "source": [
    "# Instantiate Model Class\n",
    "input_dim = 28*28 # size of image px*px\n",
    "output_dim = 10  # labels 0,1,2,3,4,5,6,7,8,9"
   ]
  },
  {
   "cell_type": "code",
   "execution_count": 38,
   "id": "43956a26",
   "metadata": {},
   "outputs": [],
   "source": [
    "# create logistic regression model\n",
    "model = LogisticRegressionModel(input_dim, output_dim)"
   ]
  },
  {
   "cell_type": "code",
   "execution_count": 39,
   "id": "d4397093",
   "metadata": {},
   "outputs": [],
   "source": [
    "# 크로스 엔트로피 \n",
    "# Cross Entropy Loss  \n",
    "error = nn.CrossEntropyLoss()\n",
    "\n",
    "# SGD Optimizer \n",
    "learning_rate = 0.001\n",
    "optimizer = torch.optim.SGD(model.parameters(), lr=learning_rate)"
   ]
  },
  {
   "cell_type": "code",
   "execution_count": 40,
   "id": "f3515e16",
   "metadata": {},
   "outputs": [
    {
     "name": "stdout",
     "output_type": "stream",
     "text": [
      "Iteration: 500  Loss: 1.850166916847229  Accuracy: 69.55833435058594%\n",
      "Iteration: 1000  Loss: 1.583223581314087  Accuracy: 76.14167022705078%\n",
      "Iteration: 1500  Loss: 1.3617606163024902  Accuracy: 78.80833435058594%\n",
      "Iteration: 2000  Loss: 1.215232014656067  Accuracy: 80.21666717529297%\n",
      "Iteration: 2500  Loss: 1.1238903999328613  Accuracy: 81.08333587646484%\n",
      "Iteration: 3000  Loss: 1.1277166604995728  Accuracy: 81.79166412353516%\n",
      "Iteration: 3500  Loss: 0.9579188823699951  Accuracy: 82.42500305175781%\n",
      "Iteration: 4000  Loss: 0.9461222290992737  Accuracy: 82.81666564941406%\n",
      "Iteration: 4500  Loss: 0.7804595828056335  Accuracy: 83.19999694824219%\n",
      "Iteration: 5000  Loss: 0.7922874689102173  Accuracy: 83.66666412353516%\n",
      "Iteration: 5500  Loss: 0.7289153337478638  Accuracy: 84.05833435058594%\n",
      "Iteration: 6000  Loss: 0.8957995772361755  Accuracy: 84.30000305175781%\n",
      "Iteration: 6500  Loss: 0.7128849625587463  Accuracy: 84.57499694824219%\n",
      "Iteration: 7000  Loss: 0.7982044816017151  Accuracy: 84.7750015258789%\n",
      "Iteration: 7500  Loss: 0.5374306440353394  Accuracy: 85.0250015258789%\n",
      "Iteration: 8000  Loss: 0.5010939240455627  Accuracy: 85.21666717529297%\n",
      "Iteration: 8500  Loss: 0.5634925961494446  Accuracy: 85.33333587646484%\n",
      "Iteration: 9000  Loss: 0.6966133713722229  Accuracy: 85.4749984741211%\n",
      "Iteration: 9500  Loss: 0.7483237385749817  Accuracy: 85.58333587646484%\n"
     ]
    }
   ],
   "source": [
    "# training 모델 \n",
    "\n",
    "count = 0 \n",
    "loss_list = []\n",
    "iteration_list = []\n",
    "\n",
    "for epoch in range(num_epochs):\n",
    "    for i, (images, labels) in enumerate(train_loader):\n",
    "        \n",
    "        # Define variable\n",
    "        train = Variable(images.view(-1, 28*28))\n",
    "        \n",
    "        label = Variable(labels)\n",
    "        \n",
    "        # 그래디언트 초기화 \n",
    "        optimizer.zero_grad()\n",
    "        \n",
    "        # Forward propagation\n",
    "        outputs = model(train)\n",
    "        \n",
    "        \n",
    "        loss = error(outputs, labels)\n",
    "        \n",
    "        # Calculate gradients\n",
    "        loss.backward()\n",
    "        \n",
    "        # Update parameters\n",
    "        optimizer.step()\n",
    "        \n",
    "        count += 1\n",
    "        \n",
    "        # prediction\n",
    "        if count % 50 == 0:\n",
    "            # Calculate Accuracy         \n",
    "            correct = 0\n",
    "            total = 0\n",
    "            \n",
    "            # predict \n",
    "            for images, labels in test_loader:\n",
    "                test = Variable(images.view(-1, 28*28))\n",
    "                \n",
    "                \n",
    "                # Forward propagation\n",
    "                outputs = model(test)\n",
    "                \n",
    "                # 예측한 값 중 최대값 \n",
    "                predicted = torch.max(outputs.data, 1)[1]\n",
    "                \n",
    "                total += len(label)\n",
    "                \n",
    "                correct += (predicted == labels).sum()\n",
    "            \n",
    "            accuracy = 100 * correct / float(total)\n",
    "            \n",
    "            \n",
    "            # store loss and iteration\n",
    "            loss_list.append(loss.data)\n",
    "            iteration_list.append(count)\n",
    "            if count % 500 == 0:\n",
    "                # Print Loss\n",
    "                print('Iteration: {}  Loss: {}  Accuracy: {}%'.format(count, loss.data, accuracy))"
   ]
  },
  {
   "cell_type": "code",
   "execution_count": 145,
   "id": "32719e8f",
   "metadata": {},
   "outputs": [
    {
     "data": {
      "image/png": "[encoded data removed]",
      "text/plain": [
       "<Figure size 640x480 with 1 Axes>"
      ]
     },
     "metadata": {},
     "output_type": "display_data"
    }
   ],
   "source": [
    "# visualization\n",
    "plt.plot(iteration_list,loss_list)\n",
    "plt.xlabel(\"Number of iteration\")\n",
    "plt.ylabel(\"Loss\")\n",
    "plt.title(\"Logistic Regression: Loss vs Number of iteration\")\n",
    "plt.show()"
   ]
  },
  {
   "cell_type": "code",
   "execution_count": 153,
   "id": "b40c284f",
   "metadata": {},
   "outputs": [
    {
     "data": {
      "text/plain": [
       "torch.Size([12000, 784])"
      ]
     },
     "execution_count": 153,
     "metadata": {},
     "output_type": "execute_result"
    }
   ],
   "source": [
    "X_test.shape"
   ]
  },
  {
   "cell_type": "code",
   "execution_count": 159,
   "id": "6369f4b9",
   "metadata": {},
   "outputs": [
    {
     "data": {
      "text/plain": [
       "12000"
      ]
     },
     "execution_count": 159,
     "metadata": {},
     "output_type": "execute_result"
    }
   ],
   "source": [
    "X_test.shape[0]"
   ]
  },
  {
   "cell_type": "code",
   "execution_count": 180,
   "id": "c55e32c2",
   "metadata": {},
   "outputs": [
    {
     "data": {
      "text/plain": [
       "7"
      ]
     },
     "execution_count": 180,
     "metadata": {},
     "output_type": "execute_result"
    }
   ],
   "source": []
  },
  {
   "cell_type": "code",
   "execution_count": 179,
   "id": "edff964b",
   "metadata": {},
   "outputs": [
    {
     "data": {
      "text/plain": [
       "7"
      ]
     },
     "execution_count": 179,
     "metadata": {},
     "output_type": "execute_result"
    }
   ],
   "source": []
  },
  {
   "cell_type": "code",
   "execution_count": 184,
   "id": "3909c7e3",
   "metadata": {},
   "outputs": [],
   "source": [
    "predict_list = []\n",
    "for i in range(X_test.shape[0]):\n",
    "    max_value = model(X_test)[i].detach().numpy().max()\n",
    "    a = list(model(X_test)[i].detach().numpy())\n",
    "    predict_list.append(a.index(max_value))"
   ]
  },
  {
   "cell_type": "code",
   "execution_count": 185,
   "id": "64bd150c",
   "metadata": {},
   "outputs": [],
   "source": [
    "from sklearn.metrics import accuracy_score"
   ]
  },
  {
   "cell_type": "code",
   "execution_count": 188,
   "id": "3ecec199",
   "metadata": {},
   "outputs": [],
   "source": [
    "predict = np.array(predict_list)"
   ]
  },
  {
   "cell_type": "code",
   "execution_count": 191,
   "id": "b454a12e",
   "metadata": {},
   "outputs": [],
   "source": [
    "real = y_test.numpy()"
   ]
  },
  {
   "cell_type": "code",
   "execution_count": 192,
   "id": "6c1e59e2",
   "metadata": {},
   "outputs": [
    {
     "data": {
      "text/plain": [
       "0.8565833333333334"
      ]
     },
     "execution_count": 192,
     "metadata": {},
     "output_type": "execute_result"
    }
   ],
   "source": [
    "accuracy_score(real, predict)"
   ]
  },
  {
   "cell_type": "code",
   "execution_count": null,
   "id": "456b3b01",
   "metadata": {},
   "outputs": [],
   "source": []
  }
 ],
 "metadata": {
  "kernelspec": {
   "display_name": "Python 3 (ipykernel)",
   "language": "python",
   "name": "python3"
  },
  "language_info": {
   "codemirror_mode": {
    "name": "ipython",
    "version": 3
   },
   "file_extension": ".py",
   "mimetype": "text/x-python",
   "name": "python",
   "nbconvert_exporter": "python",
   "pygments_lexer": "ipython3",
   "version": "3.8.13"
  }
 },
 "nbformat": 4,
 "nbformat_minor": 5
}
