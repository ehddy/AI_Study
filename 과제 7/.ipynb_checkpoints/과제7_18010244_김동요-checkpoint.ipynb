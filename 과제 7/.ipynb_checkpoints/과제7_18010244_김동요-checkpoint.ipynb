{
 "cells": [
  {
   "cell_type": "markdown",
   "id": "9360a287",
   "metadata": {},
   "source": [
    "## 1. 라이브러리 및 데이터 불러오기"
   ]
  },
  {
   "cell_type": "code",
   "execution_count": 26,
   "id": "4c2e11ed",
   "metadata": {},
   "outputs": [],
   "source": [
    "import pandas as pd\n",
    "import numpy as np\n",
    "import matplotlib.pyplot as plt\n",
    "%matplotlib inline\n",
    "import seaborn as sns\n",
    "sns.set(style='darkgrid', font_scale=1.4)\n",
    "\n",
    "# 경고 메세지 무시\n",
    "import warnings\n",
    "warnings.filterwarnings('ignore')\n",
    "\n",
    "# 얼마나 걸리는지 화면에 보여주는 모듈\n",
    "import tqdm\n",
    "\n",
    "# 경로\n",
    "import os\n",
    "\n",
    "# 정규표현식 \n",
    "import re\n",
    "\n",
    "plt.rc('font', family='AppleGothic')\n",
    "# plt.rc('font', family='Malgun Gothic')\n",
    "\n",
    "\n",
    "\n",
    "# 맥 폰트 \n",
    "plt.rcParams['axes.unicode_minus'] = False\n",
    "\n",
    "\n",
    "# 한국어 자연어 처리 패키지\n",
    "from konlpy.tag import Mecab\n",
    "\n",
    "# 자연어 처리 패키지\n",
    "import nltk\n",
    "from nltk import FreqDist"
   ]
  },
  {
   "cell_type": "code",
   "execution_count": 2,
   "id": "1955d4c0",
   "metadata": {},
   "outputs": [],
   "source": [
    "# 학습 데이터 불러오기 \n",
    "train_data = pd.read_csv('train.csv', index_col=0)\n",
    "\n",
    "\n",
    "# test용 데이터 불러오기\n",
    "test_data = pd.read_csv('test.csv', index_col=0)\n",
    "\n",
    "# 제출용 데이터 불러오기 \n",
    "submission_data = pd.read_csv('sample_submission.csv', index_col=0)"
   ]
  },
  {
   "cell_type": "markdown",
   "id": "8d63355d",
   "metadata": {},
   "source": [
    "### 1) 변수 소개\n",
    "\n",
    "- 독립변수"
   ]
  },
  {
   "attachments": {
    "image.png": {
     "image/png": "[encoded data removed]"
    }
   },
   "cell_type": "markdown",
   "id": "959e92d9",
   "metadata": {},
   "source": [
    "![image.png](attachment:image.png)"
   ]
  },
  {
   "cell_type": "markdown",
   "id": "e879d9fa",
   "metadata": {},
   "source": [
    "- 종속변수"
   ]
  },
  {
   "attachments": {
    "image.png": {
     "image/png": "[encoded data removed]"
    }
   },
   "cell_type": "markdown",
   "id": "68b7c935",
   "metadata": {},
   "source": [
    "![image.png](attachment:image.png)"
   ]
  },
  {
   "cell_type": "markdown",
   "id": "4f3f7bc8",
   "metadata": {},
   "source": [
    "### 2) 데이터 확인 및 기초 전처리"
   ]
  },
  {
   "cell_type": "code",
   "execution_count": 3,
   "id": "7e40d4ec",
   "metadata": {},
   "outputs": [
    {
     "data": {
      "text/html": [
       "<div>\n",
       "<style scoped>\n",
       "    .dataframe tbody tr th:only-of-type {\n",
       "        vertical-align: middle;\n",
       "    }\n",
       "\n",
       "    .dataframe tbody tr th {\n",
       "        vertical-align: top;\n",
       "    }\n",
       "\n",
       "    .dataframe thead th {\n",
       "        text-align: right;\n",
       "    }\n",
       "</style>\n",
       "<table border=\"1\" class=\"dataframe\">\n",
       "  <thead>\n",
       "    <tr style=\"text-align: right;\">\n",
       "      <th></th>\n",
       "      <th>category</th>\n",
       "      <th>data</th>\n",
       "    </tr>\n",
       "    <tr>\n",
       "      <th>index</th>\n",
       "      <th></th>\n",
       "      <th></th>\n",
       "    </tr>\n",
       "  </thead>\n",
       "  <tbody>\n",
       "    <tr>\n",
       "      <th>0</th>\n",
       "      <td>2</td>\n",
       "      <td>신혼부부위한 주택정책 보다 보육시설 늘려주세요.. 국민세금으로 일부를 위한 정책펴지...</td>\n",
       "    </tr>\n",
       "    <tr>\n",
       "      <th>1</th>\n",
       "      <td>0</td>\n",
       "      <td>학교이름에 '남자'도 붙여주세요. 울산여자중학교에 재학중인 학생입니다 최근 양성평등...</td>\n",
       "    </tr>\n",
       "    <tr>\n",
       "      <th>2</th>\n",
       "      <td>1</td>\n",
       "      <td>빙상연맹, 대한축구협회등 각종 체육협회의 비리를 철저하게 밝혀주세요.. 최근 동계올...</td>\n",
       "    </tr>\n",
       "    <tr>\n",
       "      <th>3</th>\n",
       "      <td>1</td>\n",
       "      <td>티비 12세,15세 관람가도 연령확인 의무화 하자.. 제기 에전에 티비를 보다가 잠...</td>\n",
       "    </tr>\n",
       "    <tr>\n",
       "      <th>4</th>\n",
       "      <td>1</td>\n",
       "      <td>무더운 여름철엔 남성들도 시원한 자율복장을 해야. 무더운 여름철에는 남성들도 노넥타...</td>\n",
       "    </tr>\n",
       "  </tbody>\n",
       "</table>\n",
       "</div>"
      ],
      "text/plain": [
       "       category                                               data\n",
       "index                                                             \n",
       "0             2  신혼부부위한 주택정책 보다 보육시설 늘려주세요.. 국민세금으로 일부를 위한 정책펴지...\n",
       "1             0  학교이름에 '남자'도 붙여주세요. 울산여자중학교에 재학중인 학생입니다 최근 양성평등...\n",
       "2             1  빙상연맹, 대한축구협회등 각종 체육협회의 비리를 철저하게 밝혀주세요.. 최근 동계올...\n",
       "3             1  티비 12세,15세 관람가도 연령확인 의무화 하자.. 제기 에전에 티비를 보다가 잠...\n",
       "4             1  무더운 여름철엔 남성들도 시원한 자율복장을 해야. 무더운 여름철에는 남성들도 노넥타..."
      ]
     },
     "execution_count": 3,
     "metadata": {},
     "output_type": "execute_result"
    }
   ],
   "source": [
    "train_data.head()"
   ]
  },
  {
   "cell_type": "code",
   "execution_count": 4,
   "id": "d590a848",
   "metadata": {},
   "outputs": [
    {
     "data": {
      "text/html": [
       "<div>\n",
       "<style scoped>\n",
       "    .dataframe tbody tr th:only-of-type {\n",
       "        vertical-align: middle;\n",
       "    }\n",
       "\n",
       "    .dataframe tbody tr th {\n",
       "        vertical-align: top;\n",
       "    }\n",
       "\n",
       "    .dataframe thead th {\n",
       "        text-align: right;\n",
       "    }\n",
       "</style>\n",
       "<table border=\"1\" class=\"dataframe\">\n",
       "  <thead>\n",
       "    <tr style=\"text-align: right;\">\n",
       "      <th></th>\n",
       "      <th>data</th>\n",
       "    </tr>\n",
       "    <tr>\n",
       "      <th>index</th>\n",
       "      <th></th>\n",
       "    </tr>\n",
       "  </thead>\n",
       "  <tbody>\n",
       "    <tr>\n",
       "      <th>0</th>\n",
       "      <td>소년법 폐지해주세요. 법 아래에서 보호받아야 할 아이들이\\n법으로 인해 보호받지 못...</td>\n",
       "    </tr>\n",
       "    <tr>\n",
       "      <th>1</th>\n",
       "      <td>국공립 유치원 증설에 관하여. 국공립 유치원 부지 학보와건립및 증설에\\n*지역 어린...</td>\n",
       "    </tr>\n",
       "    <tr>\n",
       "      <th>2</th>\n",
       "      <td>나경원파면. 나경원의원의  동계올림픽 위원을 파면해 주세요</td>\n",
       "    </tr>\n",
       "    <tr>\n",
       "      <th>3</th>\n",
       "      <td>국민위원에가 삼성편만들어요. 삼성에서 11년간  일하고 혈암과 백혈병 진단을 받은 ...</td>\n",
       "    </tr>\n",
       "    <tr>\n",
       "      <th>4</th>\n",
       "      <td>방과후,유치원,어린이집 영어교육을 유지시켜주세요. 저는 아이 셋 키우는 평범한 주부...</td>\n",
       "    </tr>\n",
       "  </tbody>\n",
       "</table>\n",
       "</div>"
      ],
      "text/plain": [
       "                                                    data\n",
       "index                                                   \n",
       "0      소년법 폐지해주세요. 법 아래에서 보호받아야 할 아이들이\\n법으로 인해 보호받지 못...\n",
       "1      국공립 유치원 증설에 관하여. 국공립 유치원 부지 학보와건립및 증설에\\n*지역 어린...\n",
       "2                       나경원파면. 나경원의원의  동계올림픽 위원을 파면해 주세요\n",
       "3      국민위원에가 삼성편만들어요. 삼성에서 11년간  일하고 혈암과 백혈병 진단을 받은 ...\n",
       "4      방과후,유치원,어린이집 영어교육을 유지시켜주세요. 저는 아이 셋 키우는 평범한 주부..."
      ]
     },
     "execution_count": 4,
     "metadata": {},
     "output_type": "execute_result"
    }
   ],
   "source": [
    "test_data.head()"
   ]
  },
  {
   "cell_type": "code",
   "execution_count": 5,
   "id": "dd98aa83",
   "metadata": {},
   "outputs": [
    {
     "name": "stdout",
     "output_type": "stream",
     "text": [
      "train_data shape : (40000, 2)\n",
      "train_data의 결측치 : 8\n",
      "test_data shape : (5000, 1)\n",
      "test_data의 결측치 : 0\n"
     ]
    }
   ],
   "source": [
    "print('train_data shape : {}'.format(train_data.shape))\n",
    "print('train_data의 결측치 : {}'.format(sum(train_data.isna().sum())))\n",
    "print('test_data shape : {}'.format(test_data.shape))\n",
    "print('test_data의 결측치 : {}'.format(sum(test_data.isna().sum())))"
   ]
  },
  {
   "cell_type": "markdown",
   "id": "cfddb7b9",
   "metadata": {},
   "source": [
    "- train_data는 행이 40000개이며, test_data는 행이 5000개이다. \n",
    "- train_data의 결측값들은 총 8개이며, test_data의 결측값들은 총 0개이다."
   ]
  },
  {
   "cell_type": "code",
   "execution_count": 6,
   "id": "13997c53",
   "metadata": {
    "scrolled": false
   },
   "outputs": [
    {
     "name": "stdout",
     "output_type": "stream",
     "text": [
      "train_data 중복값: 615, (1.5%)\n",
      "\n",
      "test_data 중복값: 25, (0.5%)\n"
     ]
    }
   ],
   "source": [
    "print(f'train_data 중복값: {train_data.duplicated().sum()}, ({np.round(100*train_data.duplicated().sum()/len(train_data),1)}%)')\n",
    "print('')\n",
    "print(f'test_data 중복값: {test_data.duplicated().sum()}, ({np.round(100*test_data.duplicated().sum()/len(test_data),1)}%)')"
   ]
  },
  {
   "cell_type": "markdown",
   "id": "5802748a",
   "metadata": {},
   "source": [
    "- train_data에 중복값이 있으니 삭제해준다. \n",
    "- test_data에도 25개의 행이 겹치지만 sample_submission을 제출하기 해야되기 때문에 별도로 삭제 x"
   ]
  },
  {
   "cell_type": "code",
   "execution_count": 7,
   "id": "57496405",
   "metadata": {},
   "outputs": [
    {
     "data": {
      "text/html": [
       "<div>\n",
       "<style scoped>\n",
       "    .dataframe tbody tr th:only-of-type {\n",
       "        vertical-align: middle;\n",
       "    }\n",
       "\n",
       "    .dataframe tbody tr th {\n",
       "        vertical-align: top;\n",
       "    }\n",
       "\n",
       "    .dataframe thead th {\n",
       "        text-align: right;\n",
       "    }\n",
       "</style>\n",
       "<table border=\"1\" class=\"dataframe\">\n",
       "  <thead>\n",
       "    <tr style=\"text-align: right;\">\n",
       "      <th></th>\n",
       "      <th>category</th>\n",
       "      <th>data</th>\n",
       "    </tr>\n",
       "    <tr>\n",
       "      <th>index</th>\n",
       "      <th></th>\n",
       "      <th></th>\n",
       "    </tr>\n",
       "  </thead>\n",
       "  <tbody>\n",
       "    <tr>\n",
       "      <th>402</th>\n",
       "      <td>2</td>\n",
       "      <td>청소년보호법폐지. 청소년보호법폐지</td>\n",
       "    </tr>\n",
       "    <tr>\n",
       "      <th>920</th>\n",
       "      <td>1</td>\n",
       "      <td>영화 5천원 마지막 수요일에서 매주 수요일로 확대해야. 영화 5천원 마지막 수요일에...</td>\n",
       "    </tr>\n",
       "    <tr>\n",
       "      <th>1270</th>\n",
       "      <td>1</td>\n",
       "      <td>영화 5천원 마지막 수요일에서 매주 수요일로 확대해야. 영화 5천원 마지막 수요일에...</td>\n",
       "    </tr>\n",
       "    <tr>\n",
       "      <th>1812</th>\n",
       "      <td>0</td>\n",
       "      <td>조두순 출소 반대. 조두순 출소 반대합니다.</td>\n",
       "    </tr>\n",
       "    <tr>\n",
       "      <th>2140</th>\n",
       "      <td>1</td>\n",
       "      <td>축구장에 있는 천연 잔디좀 신경 써주세요!!. 지금 축구장에 천연 잔디 모습이 안 ...</td>\n",
       "    </tr>\n",
       "    <tr>\n",
       "      <th>...</th>\n",
       "      <td>...</td>\n",
       "      <td>...</td>\n",
       "    </tr>\n",
       "    <tr>\n",
       "      <th>39856</th>\n",
       "      <td>2</td>\n",
       "      <td>소년법 개정과 부산 폭행사건 가해자 엄중 처벌을 청원합니다.. 소년법 개정\\n어리다...</td>\n",
       "    </tr>\n",
       "    <tr>\n",
       "      <th>39867</th>\n",
       "      <td>0</td>\n",
       "      <td>청소년보호법 폐지해 주세요!!. 인천8세여아살인사건과 부산여중생폭행사건 너무 잔인합...</td>\n",
       "    </tr>\n",
       "    <tr>\n",
       "      <th>39893</th>\n",
       "      <td>2</td>\n",
       "      <td>2020년도 대학 입시. 현재 고2  자녀를 둔 학부모 입니다\\n오늘 뉴스를 보니 ...</td>\n",
       "    </tr>\n",
       "    <tr>\n",
       "      <th>39895</th>\n",
       "      <td>1</td>\n",
       "      <td>2018월드컵. 안녕 하세요 저는 중학교2학년인 학생  입 니다. 저는 신 태용 감...</td>\n",
       "    </tr>\n",
       "    <tr>\n",
       "      <th>39989</th>\n",
       "      <td>2</td>\n",
       "      <td>우리들의 꿈나무들이 꿈을 펼칠수 있게 교육개선 해주세요. 안녕하세요 현 초등학생3학...</td>\n",
       "    </tr>\n",
       "  </tbody>\n",
       "</table>\n",
       "<p>615 rows × 2 columns</p>\n",
       "</div>"
      ],
      "text/plain": [
       "       category                                               data\n",
       "index                                                             \n",
       "402           2                                 청소년보호법폐지. 청소년보호법폐지\n",
       "920           1  영화 5천원 마지막 수요일에서 매주 수요일로 확대해야. 영화 5천원 마지막 수요일에...\n",
       "1270          1  영화 5천원 마지막 수요일에서 매주 수요일로 확대해야. 영화 5천원 마지막 수요일에...\n",
       "1812          0                           조두순 출소 반대. 조두순 출소 반대합니다.\n",
       "2140          1  축구장에 있는 천연 잔디좀 신경 써주세요!!. 지금 축구장에 천연 잔디 모습이 안 ...\n",
       "...         ...                                                ...\n",
       "39856         2  소년법 개정과 부산 폭행사건 가해자 엄중 처벌을 청원합니다.. 소년법 개정\\n어리다...\n",
       "39867         0  청소년보호법 폐지해 주세요!!. 인천8세여아살인사건과 부산여중생폭행사건 너무 잔인합...\n",
       "39893         2  2020년도 대학 입시. 현재 고2  자녀를 둔 학부모 입니다\\n오늘 뉴스를 보니 ...\n",
       "39895         1  2018월드컵. 안녕 하세요 저는 중학교2학년인 학생  입 니다. 저는 신 태용 감...\n",
       "39989         2  우리들의 꿈나무들이 꿈을 펼칠수 있게 교육개선 해주세요. 안녕하세요 현 초등학생3학...\n",
       "\n",
       "[615 rows x 2 columns]"
      ]
     },
     "execution_count": 7,
     "metadata": {},
     "output_type": "execute_result"
    }
   ],
   "source": [
    "# train_data 중복값 확인\n",
    "train_data[train_data.duplicated() == True]"
   ]
  },
  {
   "cell_type": "code",
   "execution_count": 8,
   "id": "a868c65b",
   "metadata": {},
   "outputs": [],
   "source": [
    "# train_data 중복값 삭제\n",
    "train_data.drop_duplicates(keep='first', inplace=True)\n",
    "\n",
    "# 인덱스 초기화 \n",
    "train_data.reset_index(drop=True, inplace=True)"
   ]
  },
  {
   "cell_type": "markdown",
   "id": "a413b0cf",
   "metadata": {},
   "source": [
    "## 2. 데이터 전처리"
   ]
  },
  {
   "cell_type": "markdown",
   "id": "56c562c0",
   "metadata": {},
   "source": [
    "### 1) 정규표현식을 이용한 기초적인 텍스트 전처리"
   ]
  },
  {
   "cell_type": "code",
   "execution_count": 9,
   "id": "a813e454",
   "metadata": {},
   "outputs": [],
   "source": [
    "def clean_text(x):\n",
    "    # 구두점 제거 \n",
    "    x = re.sub(r'[@%\\\\*=()/~#&\\+á?\\xc3\\xa1\\-\\|\\.\\:\\;\\!\\-\\,\\_\\~\\$\\'\\\"]', '',x) \n",
    "    # 숫자 제거 \n",
    "    x = re.sub(r'\\d+','', x)\n",
    "    # 소문자로 변환 \n",
    "    x = x.lower()\n",
    "    # 여백 제거 \n",
    "    x = re.sub(r'\\s+', ' ', x) \n",
    "    x = re.sub(r'<[^>]+>','',x) \n",
    "    x = re.sub(r'\\s+', ' ', x)\n",
    "    x = re.sub(r\"^\\s+\", '', x) \n",
    "    x = re.sub(r'\\s+$', '', x) \n",
    "    \n",
    "    # 특수문자 제거 \n",
    "    x = re.sub('[-=+,#:;//●<>▲\\?:^$.☆!★()Ⅰ@*\\\"※~>`\\'…》]', ' ', x)\n",
    "    return x"
   ]
  },
  {
   "cell_type": "code",
   "execution_count": 10,
   "id": "b37dc0c7",
   "metadata": {},
   "outputs": [
    {
     "data": {
      "text/html": [
       "<div>\n",
       "<style scoped>\n",
       "    .dataframe tbody tr th:only-of-type {\n",
       "        vertical-align: middle;\n",
       "    }\n",
       "\n",
       "    .dataframe tbody tr th {\n",
       "        vertical-align: top;\n",
       "    }\n",
       "\n",
       "    .dataframe thead th {\n",
       "        text-align: right;\n",
       "    }\n",
       "</style>\n",
       "<table border=\"1\" class=\"dataframe\">\n",
       "  <thead>\n",
       "    <tr style=\"text-align: right;\">\n",
       "      <th></th>\n",
       "      <th>category</th>\n",
       "      <th>data</th>\n",
       "    </tr>\n",
       "  </thead>\n",
       "  <tbody>\n",
       "    <tr>\n",
       "      <th>0</th>\n",
       "      <td>2</td>\n",
       "      <td>신혼부부위한 주택정책 보다 보육시설 늘려주세요.. 국민세금으로 일부를 위한 정책펴지...</td>\n",
       "    </tr>\n",
       "    <tr>\n",
       "      <th>1</th>\n",
       "      <td>0</td>\n",
       "      <td>학교이름에 '남자'도 붙여주세요. 울산여자중학교에 재학중인 학생입니다 최근 양성평등...</td>\n",
       "    </tr>\n",
       "    <tr>\n",
       "      <th>2</th>\n",
       "      <td>1</td>\n",
       "      <td>빙상연맹, 대한축구협회등 각종 체육협회의 비리를 철저하게 밝혀주세요.. 최근 동계올...</td>\n",
       "    </tr>\n",
       "    <tr>\n",
       "      <th>3</th>\n",
       "      <td>1</td>\n",
       "      <td>티비 12세,15세 관람가도 연령확인 의무화 하자.. 제기 에전에 티비를 보다가 잠...</td>\n",
       "    </tr>\n",
       "    <tr>\n",
       "      <th>4</th>\n",
       "      <td>1</td>\n",
       "      <td>무더운 여름철엔 남성들도 시원한 자율복장을 해야. 무더운 여름철에는 남성들도 노넥타...</td>\n",
       "    </tr>\n",
       "    <tr>\n",
       "      <th>...</th>\n",
       "      <td>...</td>\n",
       "      <td>...</td>\n",
       "    </tr>\n",
       "    <tr>\n",
       "      <th>39380</th>\n",
       "      <td>2</td>\n",
       "      <td>시간유연근무제. 저는 국립대에서 일하고 있는 비정규직 근로자입니다.\\n동시에  두 ...</td>\n",
       "    </tr>\n",
       "    <tr>\n",
       "      <th>39381</th>\n",
       "      <td>0</td>\n",
       "      <td>소년법을 폐지해 주시고 부산 여중생 가해자 학생들의 강력한 처벌을 요구합니다. 소년...</td>\n",
       "    </tr>\n",
       "    <tr>\n",
       "      <th>39382</th>\n",
       "      <td>2</td>\n",
       "      <td>무서운데 지켜야 할게 있어요 도와주세요. 안녕하세요 . 한부모엄마 입니다.\\n양육비...</td>\n",
       "    </tr>\n",
       "    <tr>\n",
       "      <th>39383</th>\n",
       "      <td>2</td>\n",
       "      <td>교복에  고정식 이름표를 달게 하는 것을 금지해 주세요.. 교복에 이름표를 박아놓아...</td>\n",
       "    </tr>\n",
       "    <tr>\n",
       "      <th>39384</th>\n",
       "      <td>0</td>\n",
       "      <td>합의성관계 가능 나이연령을 올리십시오. 제가 형법공부를하다가 문제를풀고있는데\\n금지...</td>\n",
       "    </tr>\n",
       "  </tbody>\n",
       "</table>\n",
       "<p>39385 rows × 2 columns</p>\n",
       "</div>"
      ],
      "text/plain": [
       "       category                                               data\n",
       "0             2  신혼부부위한 주택정책 보다 보육시설 늘려주세요.. 국민세금으로 일부를 위한 정책펴지...\n",
       "1             0  학교이름에 '남자'도 붙여주세요. 울산여자중학교에 재학중인 학생입니다 최근 양성평등...\n",
       "2             1  빙상연맹, 대한축구협회등 각종 체육협회의 비리를 철저하게 밝혀주세요.. 최근 동계올...\n",
       "3             1  티비 12세,15세 관람가도 연령확인 의무화 하자.. 제기 에전에 티비를 보다가 잠...\n",
       "4             1  무더운 여름철엔 남성들도 시원한 자율복장을 해야. 무더운 여름철에는 남성들도 노넥타...\n",
       "...         ...                                                ...\n",
       "39380         2  시간유연근무제. 저는 국립대에서 일하고 있는 비정규직 근로자입니다.\\n동시에  두 ...\n",
       "39381         0  소년법을 폐지해 주시고 부산 여중생 가해자 학생들의 강력한 처벌을 요구합니다. 소년...\n",
       "39382         2  무서운데 지켜야 할게 있어요 도와주세요. 안녕하세요 . 한부모엄마 입니다.\\n양육비...\n",
       "39383         2  교복에  고정식 이름표를 달게 하는 것을 금지해 주세요.. 교복에 이름표를 박아놓아...\n",
       "39384         0  합의성관계 가능 나이연령을 올리십시오. 제가 형법공부를하다가 문제를풀고있는데\\n금지...\n",
       "\n",
       "[39385 rows x 2 columns]"
      ]
     },
     "execution_count": 10,
     "metadata": {},
     "output_type": "execute_result"
    }
   ],
   "source": [
    "train_data"
   ]
  },
  {
   "cell_type": "code",
   "execution_count": 11,
   "id": "a8a46071",
   "metadata": {},
   "outputs": [],
   "source": [
    "# 전처리한 텍스트 열 추가 \n",
    "train_data['text_preprocess'] = train_data['data'].apply(lambda x : clean_text(str(x)))"
   ]
  },
  {
   "cell_type": "code",
   "execution_count": 12,
   "id": "5d70d5bb",
   "metadata": {},
   "outputs": [],
   "source": [
    "test_data['text_preprocess'] = test_data['data'].apply(lambda x : clean_text(str(x)))"
   ]
  },
  {
   "cell_type": "code",
   "execution_count": 13,
   "id": "1b54bddf",
   "metadata": {},
   "outputs": [],
   "source": [
    "# 전처리 전 컬럼 삭제\n",
    "train_data.drop('data', axis=1, inplace=True)\n",
    "test_data.drop('data', axis=1, inplace=True)"
   ]
  },
  {
   "cell_type": "markdown",
   "id": "a2e99f93",
   "metadata": {},
   "source": [
    "### 2) 토큰화 및 불용어 처리 "
   ]
  },
  {
   "cell_type": "markdown",
   "id": "a04833a7",
   "metadata": {},
   "source": [
    "- 주어진 문장에서 토큰(token)이라 불리는 단위로 나누는 작업을 진행한다. 토큰의 단위을 단어 하나로 정하여 토큰화를 수행한다.\n",
    "- 불용어(stopword= 자주 등장하지만 분석을 하는 것에 있어서는 큰 도움이 되지 않는 단어)을 삭제해주는 작업을 진행한다. \n",
    "- 블로그(출처: https://bab2min.tistory.com/544)에서 수집한 한국어 불용어 리스트인 불용어 100.txt 사전을 활용하여, 불용어를 제거해준다."
   ]
  },
  {
   "cell_type": "code",
   "execution_count": 14,
   "id": "651de4b8",
   "metadata": {},
   "outputs": [
    {
     "data": {
      "text/html": [
       "<div>\n",
       "<style scoped>\n",
       "    .dataframe tbody tr th:only-of-type {\n",
       "        vertical-align: middle;\n",
       "    }\n",
       "\n",
       "    .dataframe tbody tr th {\n",
       "        vertical-align: top;\n",
       "    }\n",
       "\n",
       "    .dataframe thead th {\n",
       "        text-align: right;\n",
       "    }\n",
       "</style>\n",
       "<table border=\"1\" class=\"dataframe\">\n",
       "  <thead>\n",
       "    <tr style=\"text-align: right;\">\n",
       "      <th></th>\n",
       "      <th>형태</th>\n",
       "      <th>품사</th>\n",
       "      <th>비율</th>\n",
       "    </tr>\n",
       "  </thead>\n",
       "  <tbody>\n",
       "    <tr>\n",
       "      <th>0</th>\n",
       "      <td>이</td>\n",
       "      <td>VCP</td>\n",
       "      <td>0.018280</td>\n",
       "    </tr>\n",
       "    <tr>\n",
       "      <th>1</th>\n",
       "      <td>있</td>\n",
       "      <td>VA</td>\n",
       "      <td>0.011699</td>\n",
       "    </tr>\n",
       "    <tr>\n",
       "      <th>2</th>\n",
       "      <td>하</td>\n",
       "      <td>VV</td>\n",
       "      <td>0.009774</td>\n",
       "    </tr>\n",
       "    <tr>\n",
       "      <th>3</th>\n",
       "      <td>것</td>\n",
       "      <td>NNB</td>\n",
       "      <td>0.009733</td>\n",
       "    </tr>\n",
       "    <tr>\n",
       "      <th>4</th>\n",
       "      <td>들</td>\n",
       "      <td>XSN</td>\n",
       "      <td>0.006898</td>\n",
       "    </tr>\n",
       "    <tr>\n",
       "      <th>...</th>\n",
       "      <td>...</td>\n",
       "      <td>...</td>\n",
       "      <td>...</td>\n",
       "    </tr>\n",
       "    <tr>\n",
       "      <th>95</th>\n",
       "      <td>원</td>\n",
       "      <td>NNB</td>\n",
       "      <td>0.000492</td>\n",
       "    </tr>\n",
       "    <tr>\n",
       "      <th>96</th>\n",
       "      <td>잘</td>\n",
       "      <td>MAG</td>\n",
       "      <td>0.000491</td>\n",
       "    </tr>\n",
       "    <tr>\n",
       "      <th>97</th>\n",
       "      <td>통하</td>\n",
       "      <td>VV</td>\n",
       "      <td>0.000487</td>\n",
       "    </tr>\n",
       "    <tr>\n",
       "      <th>98</th>\n",
       "      <td>소리</td>\n",
       "      <td>NNG</td>\n",
       "      <td>0.000486</td>\n",
       "    </tr>\n",
       "    <tr>\n",
       "      <th>99</th>\n",
       "      <td>놓</td>\n",
       "      <td>VX</td>\n",
       "      <td>0.000483</td>\n",
       "    </tr>\n",
       "  </tbody>\n",
       "</table>\n",
       "<p>100 rows × 3 columns</p>\n",
       "</div>"
      ],
      "text/plain": [
       "    형태   품사        비율\n",
       "0    이  VCP  0.018280\n",
       "1    있   VA  0.011699\n",
       "2    하   VV  0.009774\n",
       "3    것  NNB  0.009733\n",
       "4    들  XSN  0.006898\n",
       "..  ..  ...       ...\n",
       "95   원  NNB  0.000492\n",
       "96   잘  MAG  0.000491\n",
       "97  통하   VV  0.000487\n",
       "98  소리  NNG  0.000486\n",
       "99   놓   VX  0.000483\n",
       "\n",
       "[100 rows x 3 columns]"
      ]
     },
     "execution_count": 14,
     "metadata": {},
     "output_type": "execute_result"
    }
   ],
   "source": [
    "stop_word = pd.read_csv('한국어불용어100.txt', sep = '\\t', header = None, names = ['형태','품사','비율'])\n",
    "stop_word"
   ]
  },
  {
   "cell_type": "code",
   "execution_count": 15,
   "id": "d63359cc",
   "metadata": {},
   "outputs": [],
   "source": [
    "stop_words = list(stop_word['형태'])"
   ]
  },
  {
   "cell_type": "markdown",
   "id": "a3574c28",
   "metadata": {},
   "source": [
    "- 토큰화 및 불용어 처리를 진행"
   ]
  },
  {
   "cell_type": "code",
   "execution_count": null,
   "id": "99e418bf",
   "metadata": {},
   "outputs": [],
   "source": [
    "# 한국어 자연어 처리 라이브러리 - \n",
    "mecab = Mecab()\n",
    "\n",
    "train_token_list = []\n",
    "\n",
    "train_text = list(train_data['text_preprocess'])\n",
    "\n",
    "for i in range(len(train_text)):\n",
    "    temp_X = []\n",
    "    # 명사를 기준으로 토큰화\n",
    "    temp_X = mecab.nouns(train_text[i]) \n",
    "    # 불용어 사전에 포함되어 있다면 해당 토큰 제거\n",
    "    temp_X = [word for word in temp_X if not word in stop_words]\n",
    "    temp_X = [word for word in temp_X if len(word) > 1]\n",
    "    train_token_list.append(temp_X)"
   ]
  },
  {
   "cell_type": "code",
   "execution_count": 23,
   "id": "2852062e",
   "metadata": {},
   "outputs": [
    {
     "data": {
      "text/plain": [
       "39385"
      ]
     },
     "execution_count": 23,
     "metadata": {},
     "output_type": "execute_result"
    }
   ],
   "source": [
    "len(train_token_list)"
   ]
  },
  {
   "cell_type": "code",
   "execution_count": 20,
   "id": "cdb0a7f2",
   "metadata": {},
   "outputs": [],
   "source": [
    "# 한국어 자연어 처리 라이브러리 \n",
    "mecab = Mecab()\n",
    "\n",
    "test_token_list = []\n",
    "\n",
    "train_text = list(test_data['text_preprocess'])\n",
    "\n",
    "for i in range(len(train_text)):\n",
    "    temp_X = []\n",
    "    # 명사를 기준으로 토큰화\n",
    "    temp_X = mecab.nouns(train_text[i]) \n",
    "    # 불용어 사전에 포함되어 있다면 해당 토큰 제거\n",
    "    temp_X = [word for word in temp_X if not word in stop_words]\n",
    "    temp_X = [word for word in temp_X if len(word) > 1]\n",
    "    test_token_list.append(temp_X)"
   ]
  },
  {
   "cell_type": "code",
   "execution_count": 22,
   "id": "7bcd277e",
   "metadata": {},
   "outputs": [
    {
     "data": {
      "text/plain": [
       "5000"
      ]
     },
     "execution_count": 22,
     "metadata": {},
     "output_type": "execute_result"
    }
   ],
   "source": [
    "len(test_token_list)"
   ]
  },
  {
   "cell_type": "markdown",
   "id": "88f2f29d",
   "metadata": {},
   "source": [
    "### 3) 단어 집합 생성"
   ]
  },
  {
   "cell_type": "markdown",
   "id": "f0377a94",
   "metadata": {},
   "source": [
    "- train_data의 토큰 리스트를 통해 단어 집합을 생성했을 때, 총 45487의 단어가 나타난다."
   ]
  },
  {
   "cell_type": "code",
   "execution_count": 46,
   "id": "bc8be495",
   "metadata": {},
   "outputs": [
    {
     "name": "stdout",
     "output_type": "stream",
     "text": [
      "train_data = 단어 집합의 크기 : 45487\n",
      "test_data = 단어 집합의 크기 : 19193\n"
     ]
    }
   ],
   "source": [
    "# 단어 집합 생성 \n",
    "train_vocab = FreqDist(np.hstack(train_token_list))\n",
    "print('train_data = 단어 집합의 크기 : {}'.format(len(train_vocab)))\n",
    "\n",
    "# 단어 집합 생성 \n",
    "test_vocab = FreqDist(np.hstack(test_token_list))\n",
    "print('test_data = 단어 집합의 크기 : {}'.format(len(test_vocab)))"
   ]
  },
  {
   "cell_type": "code",
   "execution_count": 49,
   "id": "e8098d8e",
   "metadata": {
    "scrolled": true
   },
   "outputs": [
    {
     "name": "stdout",
     "output_type": "stream",
     "text": [
      "train 데이터 = 단어 집합(vocabulary)의 크기 : 45487\n",
      "등장 빈도가 10번 이하인 희귀 단어의 수: 32865\n",
      "단어 집합에서 희귀 단어의 비율: 72.25141249148108\n",
      "전체 등장 빈도에서 희귀 단어 등장 빈도 비율: 3.323441678269844\n"
     ]
    }
   ],
   "source": [
    "# 희귀한 단어의 개수를 정할 임계값 \n",
    "threshold = 11\n",
    "\n",
    "# 등장 빈도수가 threshold보다 작은 단어의 개수를 카운트\n",
    "total_cnt = len(train_vocab) \n",
    "\n",
    "# 등장 빈도수가 threshold보다 작은 단어의 개수를 카운트\n",
    "rare_cnt = 0 \n",
    "\n",
    " # 훈련 데이터의 전체 단어 빈도수 총 합\n",
    "total_freq = 0\n",
    "\n",
    " # 등장 빈도수가 threshold보다 작은 단어의 등장 빈도수의 총 합\n",
    "rare_freq = 0\n",
    "\n",
    "# 단어와 빈도수의 쌍(pair)을 key와 value로 받는다.\n",
    "for key, value in train_vocab.items():\n",
    "    total_freq = total_freq + value\n",
    "\n",
    "    # 단어의 등장 빈도수가 threshold보다 작으면\n",
    "    if(value < threshold):\n",
    "        rare_cnt = rare_cnt + 1\n",
    "        rare_freq = rare_freq + value\n",
    "\n",
    "print('train 데이터 = 단어 집합(vocabulary)의 크기 :',total_cnt)\n",
    "print('등장 빈도가 {}번 이하인 희귀 단어의 수: {}'.format(threshold - 1, rare_cnt))\n",
    "print(\"단어 집합에서 희귀 단어의 비율:\", (rare_cnt / total_cnt)*100)\n",
    "print(\"전체 등장 빈도에서 희귀 단어 등장 빈도 비율:\", (rare_freq / total_freq)*100)"
   ]
  },
  {
   "cell_type": "markdown",
   "id": "b32edeb5",
   "metadata": {},
   "source": [
    "- 단어 집합에서 빈도가 10번 이하인 회귀 단어의 비율이 72%를 차지하지만, 전체 단어의 빈도에 비해면 매우 미미한 수준이라고 볼 수 있다. "
   ]
  },
  {
   "cell_type": "markdown",
   "id": "83849b54",
   "metadata": {},
   "source": [
    "- 빈도를 기준으로 상위를 차지하는 10000개의 단어만 추출한다."
   ]
  },
  {
   "cell_type": "code",
   "execution_count": 50,
   "id": "3dd4ffad",
   "metadata": {},
   "outputs": [
    {
     "name": "stdout",
     "output_type": "stream",
     "text": [
      "train_data = 단어 집합의 크기 : 10000\n",
      "test_data = 단어 집합의 크기 : 10000\n"
     ]
    }
   ],
   "source": [
    "vocab_size = 10000\n",
    "# 상위 vocab_size개의 단어만 보존\n",
    "train_vocab = train_vocab.most_common(vocab_size)\n",
    "print('train_data = 단어 집합의 크기 : {}'.format(len(train_vocab)))\n",
    "\n",
    "test_vocab = test_vocab.most_common(vocab_size)\n",
    "print('test_data = 단어 집합의 크기 : {}'.format(len(test_vocab)))"
   ]
  },
  {
   "cell_type": "markdown",
   "id": "7e67fe44",
   "metadata": {},
   "source": [
    "### 4) 각 단어에 고유한 정수 부여 "
   ]
  },
  {
   "cell_type": "markdown",
   "id": "a50e1785",
   "metadata": {},
   "source": [
    "- 단어 집합 내의 단어의 각각 고유한 정수를 부여해주었다. 2부터 10001까지 부여해줬으며, 1은 패딩을 위해 0은 삭제한 단어의 인덱스를 통일하기 위해 비워놓았다. "
   ]
  },
  {
   "cell_type": "code",
   "execution_count": 60,
   "id": "8225d1d0",
   "metadata": {},
   "outputs": [],
   "source": [
    "word_to_index = {word[0] : index + 2 for index, word in enumerate(train_vocab)}\n",
    "word_to_index['pad'] = 1\n",
    "word_to_index['unk'] = 0"
   ]
  },
  {
   "cell_type": "markdown",
   "id": "c28bcd0e",
   "metadata": {},
   "source": [
    "- 기존의 훈련 데이터와 테스트 데이터에서 각 단어를 고유한 정수로 부여하는 작업을 진행하였다."
   ]
  },
  {
   "cell_type": "code",
   "execution_count": 61,
   "id": "2a122553",
   "metadata": {},
   "outputs": [],
   "source": [
    "train_encoded = []\n",
    "#입력 데이터에서 1줄씩 문장을 읽음\n",
    "for line in train_token_list:\n",
    "    temp = []\n",
    "    for w in line: #각 줄에서 1개씩 글자를 읽음\n",
    "        # 글자를 해당되는 정수로 변환\n",
    "        try:\n",
    "            temp.append(word_to_index[w]) \n",
    "        # 단어 집합에 없는 단어일 경우 unk로 대체된다.\n",
    "        except KeyError:\n",
    "            temp.append(word_to_index['unk']) # unk의 인덱스로 변환\n",
    "\n",
    "    train_encoded.append(temp)"
   ]
  },
  {
   "cell_type": "code",
   "execution_count": 62,
   "id": "366e1326",
   "metadata": {},
   "outputs": [],
   "source": [
    "# test 데이터도 동일한 작업 진행 \n",
    "word_to_index = {word[0] : index + 2 for index, word in enumerate(test_vocab)}\n",
    "word_to_index['pad'] = 1\n",
    "word_to_index['unk'] = 0"
   ]
  },
  {
   "cell_type": "code",
   "execution_count": 63,
   "id": "a7b61fc6",
   "metadata": {},
   "outputs": [],
   "source": [
    "test_encoded = []\n",
    "#입력 데이터에서 1줄씩 문장을 읽음\n",
    "for line in test_token_list:\n",
    "    temp = []\n",
    "    for w in line: #각 줄에서 1개씩 글자를 읽음\n",
    "        # 글자를 해당되는 정수로 변환\n",
    "        try:\n",
    "            temp.append(word_to_index[w]) \n",
    "        # 단어 집합에 없는 단어일 경우 unk로 대체된다.\n",
    "        except KeyError:\n",
    "             # unk의 인덱스로 변환\n",
    "            temp.append(word_to_index['unk'])\n",
    "\n",
    "    test_encoded.append(temp)"
   ]
  },
  {
   "cell_type": "markdown",
   "id": "32cf03b8",
   "metadata": {},
   "source": [
    " ### 5) 패딩(padding)   "
   ]
  },
  {
   "cell_type": "markdown",
   "id": "b45fb7c6",
   "metadata": {},
   "source": [
    "- 길이가 다른 문장들을 모두 동일한 길이로 바꿔주는 패딩을 진행하였다. "
   ]
  },
  {
   "cell_type": "code",
   "execution_count": null,
   "id": "44c0cc57",
   "metadata": {},
   "outputs": [],
   "source": []
  }
 ],
 "metadata": {
  "kernelspec": {
   "display_name": "Python 3 (ipykernel)",
   "language": "python",
   "name": "python3"
  },
  "language_info": {
   "codemirror_mode": {
    "name": "ipython",
    "version": 3
   },
   "file_extension": ".py",
   "mimetype": "text/x-python",
   "name": "python",
   "nbconvert_exporter": "python",
   "pygments_lexer": "ipython3",
   "version": "3.8.12"
  }
 },
 "nbformat": 4,
 "nbformat_minor": 5
}
