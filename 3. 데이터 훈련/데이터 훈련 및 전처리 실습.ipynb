{
 "cells": [
  {
   "cell_type": "code",
   "execution_count": 1,
   "id": "d37c65b9",
   "metadata": {},
   "outputs": [],
   "source": [
    "from sklearn.datasets import load_breast_cancer\n",
    "from sklearn.model_selection import train_test_split\n",
    "\n",
    "\n",
    "import matplotlib.pyplot as plt\n",
    "import numpy as np\n",
    "%matplotlib inline"
   ]
  },
  {
   "cell_type": "code",
   "execution_count": 2,
   "id": "4a1be28c",
   "metadata": {},
   "outputs": [],
   "source": [
    "cancer = load_breast_cancer()\n",
    "x = cancer.data\n",
    "y = cancer.target\n",
    "\n",
    "x_train_all, x_test, y_train_all, y_test = train_test_split(x, y, stratify=y, test_size=0.2, random_state=42)"
   ]
  },
  {
   "cell_type": "code",
   "execution_count": 3,
   "id": "fcc0bdaf",
   "metadata": {},
   "outputs": [],
   "source": [
    "from sklearn.linear_model import SGDClassifier"
   ]
  },
  {
   "cell_type": "code",
   "execution_count": 4,
   "id": "b87ea72a",
   "metadata": {},
   "outputs": [
    {
     "data": {
      "text/plain": [
       "0.8333333333333334"
      ]
     },
     "execution_count": 4,
     "metadata": {},
     "output_type": "execute_result"
    }
   ],
   "source": [
    "sgd = SGDClassifier(loss='log', random_state=42)\n",
    "sgd.fit(x_train_all, y_train_all)\n",
    "sgd.score(x_test, y_test)"
   ]
  },
  {
   "cell_type": "code",
   "execution_count": 5,
   "id": "e660e38b",
   "metadata": {},
   "outputs": [
    {
     "data": {
      "text/plain": [
       "0.9385964912280702"
      ]
     },
     "execution_count": 5,
     "metadata": {},
     "output_type": "execute_result"
    }
   ],
   "source": [
    "sgd = SGDClassifier(loss='hinge', random_state=42)\n",
    "sgd.fit(x_train_all, y_train_all)\n",
    "sgd.score(x_test, y_test)"
   ]
  },
  {
   "cell_type": "markdown",
   "id": "e9803ca3",
   "metadata": {},
   "source": [
    "### 검증 세트 분할(train_test_split 한번 더 사용)"
   ]
  },
  {
   "cell_type": "code",
   "execution_count": 6,
   "id": "167a78b1",
   "metadata": {},
   "outputs": [],
   "source": [
    "x_train, x_val, y_train, y_val = train_test_split(x_train_all, y_train_all, stratify=y_train_all, test_size=0.2, random_state=42)"
   ]
  },
  {
   "cell_type": "code",
   "execution_count": 7,
   "id": "3cd71fa0",
   "metadata": {},
   "outputs": [
    {
     "name": "stdout",
     "output_type": "stream",
     "text": [
      "364 364\n"
     ]
    }
   ],
   "source": [
    "print(len(x_train), len(y_train))"
   ]
  },
  {
   "cell_type": "code",
   "execution_count": 8,
   "id": "f8773cd8",
   "metadata": {},
   "outputs": [
    {
     "data": {
      "text/plain": [
       "0.6923076923076923"
      ]
     },
     "execution_count": 8,
     "metadata": {},
     "output_type": "execute_result"
    }
   ],
   "source": [
    "sgd = SGDClassifier(loss='log', random_state=42)\n",
    "sgd.fit(x_train, y_train)\n",
    "sgd.score(x_val, y_val)\n"
   ]
  },
  {
   "cell_type": "markdown",
   "id": "c8f05de7",
   "metadata": {},
   "source": [
    "### 특성의 스케일(변동의 크기)은 알고리즘의 영향을 줌"
   ]
  },
  {
   "cell_type": "code",
   "execution_count": 9,
   "id": "4e0b953e",
   "metadata": {},
   "outputs": [
    {
     "name": "stdout",
     "output_type": "stream",
     "text": [
      "['mean perimeter' 'mean area']\n"
     ]
    },
    {
     "data": {
      "image/png": "[encoded data removed]",
      "text/plain": [
       "<Figure size 432x288 with 1 Axes>"
      ]
     },
     "metadata": {
      "needs_background": "light"
     },
     "output_type": "display_data"
    }
   ],
   "source": [
    "print(cancer.feature_names[[2, 3]])\n",
    "plt.boxplot(x_train[:, 2:4])\n",
    "plt.xlabel('feature')\n",
    "plt.ylabel('value')\n",
    "\n",
    "plt.show()"
   ]
  },
  {
   "cell_type": "code",
   "execution_count": 10,
   "id": "6893722b",
   "metadata": {},
   "outputs": [],
   "source": [
    "# 가중치를 기록하는 변수와 학습률 파라미터 추가\n",
    "\n",
    "class SingleLayer:\n",
    "    def __init__(self, learning_rate=0.1, l1=0, l2=0):\n",
    "        self.w = None\n",
    "        self.b = None\n",
    "        self.losses = []\n",
    "        self.val_losses = []\n",
    "        self.w_history = []\n",
    "        self.lr = learning_rate\n",
    "        self.l1 = l1\n",
    "        self.l2 = l2\n",
    "        \n",
    "    def forpass(self, x):\n",
    "        z = np.sum(x * self.w) + self.b # 직선 방정식을 계산\n",
    "        return z \n",
    "    \n",
    "    def backprop(self, x, err):\n",
    "        w_grad = x * err # 가중치에 대한 그래디언트 계산\n",
    "        b_grad = 1 * err  # 절편에 대한 그래디언트 계산\n",
    "        return w_grad, b_grad\n",
    "    \n",
    "    def activation(self, z):\n",
    "        z = np.clip(z, -100, None) # 안전한 np.exp() 계산을 위해 \n",
    "        a = 1 / (1 + np.exp(-z)) # 시그모이드 계산 \n",
    "        \n",
    "        return a \n",
    "    def fit(self, x, y, epochs=100):\n",
    "        self.w = np.ones(x.shape[1])\n",
    "        self.b = 0\n",
    "        self.w_history.append(self.w.copy()) # 가중치 기록\n",
    "        np.random.seed(42)\n",
    "\n",
    "        for i in range(epochs):\n",
    "            loss = 0\n",
    "            # 인덱스를 섞는다 (확률적 경사 하강법): 1개의 샘플을 중복되지 않도록 무작위로 선택\n",
    "            indexes = np.random.permutation(np.arange(len(x)))\n",
    "            \n",
    "            for i in indexes:\n",
    "                z = self.forpass(x[i])\n",
    "                a = self.activation(z)\n",
    "                \n",
    "                err = -(y[i] - a)\n",
    "                \n",
    "                w_grad, b_grad = self.backprop(x[i], err) # 역방향 계산\n",
    "                \n",
    "                # 그래디언트에서 패널티 항의 미분 값을 더한다. \n",
    "                w_grad += self.l1 * np.sign(self.w) + self.l2 * self.w\n",
    "                self.w -= self.lr * w_grad\n",
    "                self.b -= self.lr * b_grad\n",
    "                \n",
    "                # 가중치 기록\n",
    "                self.w_history.append(self.w.copy())\n",
    "                \n",
    "                # 안전한 로그 계산을 위해 클리핑한 후 손실을 누적 \n",
    "                a = np.clip(a, 1e-10, 1-1e-10)\n",
    "                \n",
    "                loss += -(y[i]*np.log(a) + (1-y[i])*np.log(1-a))\n",
    "                \n",
    "            # 에포크마다 평균 손실을 저장 \n",
    "            self.losses.append(loss/len(y))\n",
    "            \n",
    "            # 검증 세트에 대한 손실 계산\n",
    "    \n",
    "    def predict(self, x):\n",
    "        z = [self.forpass(x_i) for x_i in x]\n",
    "        return np.array(z) > 0 # 스텝 함수 적용\n",
    "        \n",
    "    def score(self, x, y):\n",
    "        return np.mean(self.predict(x)==y)"
   ]
  },
  {
   "cell_type": "code",
   "execution_count": 11,
   "id": "c7b7834f",
   "metadata": {},
   "outputs": [
    {
     "data": {
      "text/plain": [
       "0.9120879120879121"
      ]
     },
     "execution_count": 11,
     "metadata": {},
     "output_type": "execute_result"
    }
   ],
   "source": [
    "layer1 = SingleLayer()\n",
    "layer1.fit(x_train, y_train)\n",
    "layer1.score(x_val, y_val)"
   ]
  },
  {
   "cell_type": "code",
   "execution_count": 12,
   "id": "996851ae",
   "metadata": {},
   "outputs": [
    {
     "data": {
      "image/png": "[encoded data removed]",
      "text/plain": [
       "<Figure size 432x288 with 1 Axes>"
      ]
     },
     "metadata": {
      "needs_background": "light"
     },
     "output_type": "display_data"
    }
   ],
   "source": [
    "w2 = [] # mean perimeter\n",
    "\n",
    "w3 = [] # mean area\n",
    "\n",
    "for w in layer1.w_history:\n",
    "    w2.append(w[2])\n",
    "    \n",
    "    w3.append(w[3])\n",
    "plt.plot(w2, w3)\n",
    "plt.plot(w2[-1], w3[-1], 'ro')\n",
    "\n",
    "plt.xlabel('w[2]')\n",
    "plt.ylabel('w[3]')\n",
    "plt.show()\n",
    "# 스케일을 조정하지 않으면, 가중치 변화가 불안정하고, 최종 가중치를 찾는 과정이 비효율적\n",
    "    \n"
   ]
  },
  {
   "cell_type": "code",
   "execution_count": 13,
   "id": "c019121c",
   "metadata": {},
   "outputs": [],
   "source": [
    "# 표준화 진행\n",
    "train_mean = np.mean(x_train, axis=0)\n",
    "\n",
    "train_std = np.std(x_train, axis=0)\n",
    "\n",
    "x_train_scaled = (x_train - train_mean) / train_std"
   ]
  },
  {
   "cell_type": "code",
   "execution_count": 14,
   "id": "1c228347",
   "metadata": {},
   "outputs": [],
   "source": [
    "layer2 = SingleLayer()\n",
    "layer2.fit(x_train_scaled, y_train)"
   ]
  },
  {
   "cell_type": "code",
   "execution_count": 15,
   "id": "712ecb43",
   "metadata": {},
   "outputs": [
    {
     "data": {
      "image/png": "[encoded data removed]",
      "text/plain": [
       "<Figure size 432x288 with 1 Axes>"
      ]
     },
     "metadata": {
      "needs_background": "light"
     },
     "output_type": "display_data"
    }
   ],
   "source": [
    "w2 = [] # mean perimeter\n",
    "\n",
    "w3 = [] # mean area\n",
    "\n",
    "for w in layer2.w_history:\n",
    "    w2.append(w[2])\n",
    "    \n",
    "    w3.append(w[3])\n",
    "plt.plot(w2, w3)\n",
    "plt.plot(w2[-1], w3[-1], 'ro')\n",
    "\n",
    "plt.xlabel('w[2]')\n",
    "plt.ylabel('w[3]')\n",
    "plt.show()\n",
    "# 스케일을 조정하지 않으면, 가중치 변화가 불안정하고, 최종 가중치를 찾는 과정이 비효율적\n",
    "    \n"
   ]
  },
  {
   "cell_type": "markdown",
   "id": "a26b65ef",
   "metadata": {},
   "source": [
    "    - 최종 가중치로 안정적이고 빠르게 수렴"
   ]
  },
  {
   "cell_type": "code",
   "execution_count": 16,
   "id": "014eeca5",
   "metadata": {},
   "outputs": [],
   "source": [
    "# 검증 세트의 평균, 표준 편차로 검증 세트 표준화 x \n",
    "# 훈련 세트와 검증 세트의 평균과 표준편차가 다르기 떄문에 올바른 성능 평가가 아님"
   ]
  },
  {
   "cell_type": "code",
   "execution_count": 17,
   "id": "351cc442",
   "metadata": {},
   "outputs": [
    {
     "data": {
      "text/plain": [
       "0.37362637362637363"
      ]
     },
     "execution_count": 17,
     "metadata": {},
     "output_type": "execute_result"
    }
   ],
   "source": [
    "layer2.score(x_val, y_val)"
   ]
  },
  {
   "cell_type": "code",
   "execution_count": 18,
   "id": "4b874ec7",
   "metadata": {},
   "outputs": [],
   "source": [
    "# 표준화 진행\n",
    "val_mean = np.mean(x_val, axis=0)\n",
    "\n",
    "val_std = np.std(x_val, axis=0)\n",
    "\n",
    "x_val_scaled = (x_val - val_mean) / val_std"
   ]
  },
  {
   "cell_type": "code",
   "execution_count": 19,
   "id": "cd6c0c51",
   "metadata": {},
   "outputs": [
    {
     "data": {
      "text/plain": [
       "0.967032967032967"
      ]
     },
     "execution_count": 19,
     "metadata": {},
     "output_type": "execute_result"
    }
   ],
   "source": [
    "layer2.score(x_val_scaled, y_val)"
   ]
  },
  {
   "cell_type": "code",
   "execution_count": 20,
   "id": "cdcca9b0",
   "metadata": {},
   "outputs": [
    {
     "data": {
      "image/png": "[encoded data removed]",
      "text/plain": [
       "<Figure size 432x288 with 1 Axes>"
      ]
     },
     "metadata": {
      "needs_background": "light"
     },
     "output_type": "display_data"
    }
   ],
   "source": [
    "plt.plot(x_train[:50, 0], x_train[:50, 1], 'bo')\n",
    "plt.plot(x_val[:50, 0], x_val[:50, 1], 'ro')\n",
    "\n",
    "plt.xlabel('feature 1')\n",
    "plt.ylabel('feature 2')\n",
    "\n",
    "plt.legend(['train_set', 'val_set'])\n",
    "plt.show()"
   ]
  },
  {
   "cell_type": "code",
   "execution_count": 21,
   "id": "b0a2df11",
   "metadata": {},
   "outputs": [
    {
     "data": {
      "image/png": "[encoded data removed]",
      "text/plain": [
       "<Figure size 432x288 with 1 Axes>"
      ]
     },
     "metadata": {
      "needs_background": "light"
     },
     "output_type": "display_data"
    }
   ],
   "source": [
    "# 검증 세트의 평균, 표준 편차로 겸증세트를 표준화 할 경우 \n",
    "plt.plot(x_train_scaled[:50, 0], x_train_scaled[:50, 1], 'go')\n",
    "plt.plot(x_val_scaled[:50, 0], x_val_scaled[:50, 1], 'ro')\n",
    "\n",
    "plt.xlabel('feature 1')\n",
    "plt.ylabel('feature 2')\n",
    "\n",
    "plt.legend(['train_set', 'val_set'])\n",
    "plt.show()"
   ]
  },
  {
   "cell_type": "markdown",
   "id": "07ea8a01",
   "metadata": {},
   "source": [
    "- 각 데이터 간의 거리가 달라짐 -> 잘못된 성능 평가"
   ]
  },
  {
   "cell_type": "code",
   "execution_count": 22,
   "id": "18bf7ecf",
   "metadata": {},
   "outputs": [
    {
     "data": {
      "image/png": "[encoded data removed]",
      "text/plain": [
       "<Figure size 432x288 with 1 Axes>"
      ]
     },
     "metadata": {
      "needs_background": "light"
     },
     "output_type": "display_data"
    }
   ],
   "source": [
    "x_val_scaled = (x_val - train_mean) / train_std\n",
    "plt.plot(x_train_scaled[:50, 0], x_train_scaled[:50, 1], 'bo')\n",
    "plt.plot(x_val_scaled[:50, 0], x_val_scaled[:50, 1], 'ro')\n",
    "\n",
    "plt.xlabel('feature 1')\n",
    "plt.ylabel('feature 2')\n",
    "\n",
    "plt.legend(['train_set', 'val_set'])\n",
    "plt.show()\n"
   ]
  },
  {
   "cell_type": "markdown",
   "id": "185b32ff",
   "metadata": {},
   "source": [
    "훈련 세트의 평균, 표준 편차로 검증 세트를 표준화 할 경우 -> 올바른 평가"
   ]
  },
  {
   "cell_type": "code",
   "execution_count": null,
   "id": "ca8bf08d",
   "metadata": {},
   "outputs": [],
   "source": [
    "# 가중치를 기록하는 변수와 학습률 파라미터 추가\n",
    "\n",
    "class SingleLayer:\n",
    "    def __init__(self, learning_rate=0.1, l1=0, l2=0):\n",
    "        self.w = None\n",
    "        self.b = None\n",
    "        self.losses = []\n",
    "        self.val_losses = []\n",
    "        self.w_history = []\n",
    "        self.lr = learning_rate\n",
    "        self.l1 = l1\n",
    "        self.l2 = l2\n",
    "        \n",
    "    def forpass(self, x):\n",
    "        z = np.sum(x * self.w) + self.b # 직선 방정식을 계산\n",
    "        return z \n",
    "    \n",
    "    def backprop(self, x, err):\n",
    "        w_grad = x * err # 가중치에 대한 그래디언트 계산\n",
    "        b_grad = 1 * err  # 절편에 대한 그래디언트 계산\n",
    "        return w_grad, b_grad\n",
    "    \n",
    "    def activation(self, z):\n",
    "        z = np.clip(z, -100, None) # 안전한 np.exp() 계산을 위해 \n",
    "        a = 1 / (1 + np.exp(-z)) # 시그모이드 계산 \n",
    "        \n",
    "        return a \n",
    "    def fit(self, x, y, epochs=100):\n",
    "        self.w = np.ones(x.shape[1])\n",
    "        self.b = 0\n",
    "        self.w_history.append(self.w.copy()) # 가중치 기록\n",
    "        np.random.seed(42)\n",
    "\n",
    "        for i in range(epochs):\n",
    "            loss = 0\n",
    "            # 인덱스를 섞는다 (확률적 경사 하강법): 1개의 샘플을 중복되지 않도록 무작위로 선택\n",
    "            indexes = np.random.permutation(np.arange(len(x)))\n",
    "            \n",
    "            for i in indexes:\n",
    "                z = self.forpass(x[i])\n",
    "                a = self.activation(z)\n",
    "                \n",
    "                err = -(y[i] - a)\n",
    "                \n",
    "                w_grad, b_grad = self.backprop(x[i], err) # 역방향 계산\n",
    "                \n",
    "                # 그래디언트에서 패널티 항의 미분 값을 더한다. \n",
    "                w_grad += self.l1 * np.sign(self.w) + self.l2 * self.w\n",
    "                self.w -= self.lr * w_grad\n",
    "                self.b -= self.lr * b_grad\n",
    "                \n",
    "                # 가중치 기록\n",
    "                self.w_history.append(self.w.copy())\n",
    "                \n",
    "                # 안전한 로그 계산을 위해 클리핑한 후 손실을 누적 \n",
    "                a = np.clip(a, 1e-10, 1-1e-10)\n",
    "                \n",
    "                loss += -(y[i]*np.log(a) + (1-y[i])*np.log(1-a))\n",
    "                \n",
    "            # 에포크마다 평균 손실을 저장 \n",
    "            self.losses.append(loss/len(y))\n",
    "            \n",
    "            # 검증 세트에 대한 손실 계산\n",
    "    \n",
    "    def predict(self, x):\n",
    "        z = [self.forpass(x_i) for x_i in x]\n",
    "        return np.array(z) > 0 # 스텝 함수 적용\n",
    "        \n",
    "    def score(self, x, y):\n",
    "        return np.mean(self.predict(x)==y)\n",
    "    \n",
    "\n",
    "    def reg_loss(self):\n",
    "        return self.l1 * np.sum(np.abs(self.w)) + self.l2 / 2 * np.sum(self.w**2)\n",
    "    \n",
    "    def update_val_loss(self, x_val, y_val):\n",
    "        # 검증 세트 손실 기록 로지스틱 손실\n",
    "        if x_val is None:\n",
    "            return \n",
    "        val_loss = 0\n",
    "        for i in range(len(x_val)):\n",
    "            z = self.forpass(x_val[i])\n",
    "            a = self.activation(z)\n",
    "            a = np.clip(a, 1e-10, 1-1e-10)\n",
    "            val_loss += -(y_val[i]*np.log(a)+(1-y_val[i])*np.log(1-a))\n",
    "        self.val_losses.append(val_loss/len(y_val) + self.reg_loss())\n",
    "            "
   ]
  }
 ],
 "metadata": {
  "kernelspec": {
   "display_name": "Python 3 (ipykernel)",
   "language": "python",
   "name": "python3"
  },
  "language_info": {
   "codemirror_mode": {
    "name": "ipython",
    "version": 3
   },
   "file_extension": ".py",
   "mimetype": "text/x-python",
   "name": "python",
   "nbconvert_exporter": "python",
   "pygments_lexer": "ipython3",
   "version": "3.9.7"
  }
 },
 "nbformat": 4,
 "nbformat_minor": 5
}
