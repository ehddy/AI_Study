{
 "cells": [
  {
   "cell_type": "code",
   "execution_count": 13,
   "id": "b1635b36",
   "metadata": {},
   "outputs": [],
   "source": [
    "from sklearn.datasets import load_breast_cancer\n",
    "cancer = load_breast_cancer()\n",
    "\n",
    "from sklearn.model_selection import train_test_split\n",
    "\n",
    "\n",
    "import matplotlib.pyplot as plt\n",
    "import numpy as np\n",
    "%matplotlib inline"
   ]
  },
  {
   "cell_type": "code",
   "execution_count": 14,
   "id": "4ad97b2a",
   "metadata": {},
   "outputs": [
    {
     "name": "stdout",
     "output_type": "stream",
     "text": [
      "(569, 30) (569,)\n"
     ]
    }
   ],
   "source": [
    "print(cancer.data.shape, cancer.target.shape)"
   ]
  },
  {
   "cell_type": "code",
   "execution_count": 15,
   "id": "e3310398",
   "metadata": {},
   "outputs": [
    {
     "data": {
      "text/plain": [
       "array([[1.799e+01, 1.038e+01, 1.228e+02, 1.001e+03, 1.184e-01, 2.776e-01,\n",
       "        3.001e-01, 1.471e-01, 2.419e-01, 7.871e-02, 1.095e+00, 9.053e-01,\n",
       "        8.589e+00, 1.534e+02, 6.399e-03, 4.904e-02, 5.373e-02, 1.587e-02,\n",
       "        3.003e-02, 6.193e-03, 2.538e+01, 1.733e+01, 1.846e+02, 2.019e+03,\n",
       "        1.622e-01, 6.656e-01, 7.119e-01, 2.654e-01, 4.601e-01, 1.189e-01],\n",
       "       [2.057e+01, 1.777e+01, 1.329e+02, 1.326e+03, 8.474e-02, 7.864e-02,\n",
       "        8.690e-02, 7.017e-02, 1.812e-01, 5.667e-02, 5.435e-01, 7.339e-01,\n",
       "        3.398e+00, 7.408e+01, 5.225e-03, 1.308e-02, 1.860e-02, 1.340e-02,\n",
       "        1.389e-02, 3.532e-03, 2.499e+01, 2.341e+01, 1.588e+02, 1.956e+03,\n",
       "        1.238e-01, 1.866e-01, 2.416e-01, 1.860e-01, 2.750e-01, 8.902e-02],\n",
       "       [1.969e+01, 2.125e+01, 1.300e+02, 1.203e+03, 1.096e-01, 1.599e-01,\n",
       "        1.974e-01, 1.279e-01, 2.069e-01, 5.999e-02, 7.456e-01, 7.869e-01,\n",
       "        4.585e+00, 9.403e+01, 6.150e-03, 4.006e-02, 3.832e-02, 2.058e-02,\n",
       "        2.250e-02, 4.571e-03, 2.357e+01, 2.553e+01, 1.525e+02, 1.709e+03,\n",
       "        1.444e-01, 4.245e-01, 4.504e-01, 2.430e-01, 3.613e-01, 8.758e-02]])"
      ]
     },
     "execution_count": 15,
     "metadata": {},
     "output_type": "execute_result"
    }
   ],
   "source": [
    "cancer.data[:3]"
   ]
  },
  {
   "cell_type": "code",
   "execution_count": 16,
   "id": "0072fc77",
   "metadata": {},
   "outputs": [
    {
     "data": {
      "image/png": "[encoded data removed]",
      "text/plain": [
       "<Figure size 432x288 with 1 Axes>"
      ]
     },
     "metadata": {
      "needs_background": "light"
     },
     "output_type": "display_data"
    }
   ],
   "source": [
    "plt.boxplot(cancer.data)\n",
    "plt.xlabel('feature')\n",
    "plt.ylabel('value')\n",
    "plt.show()"
   ]
  },
  {
   "cell_type": "code",
   "execution_count": 17,
   "id": "38d92480",
   "metadata": {},
   "outputs": [],
   "source": [
    "cancer = load_breast_cancer()\n",
    "x = cancer.data\n",
    "y = cancer.target\n",
    "\n",
    "x_train_all, x_test, y_train_all, y_test = train_test_split(x, y, stratify=y, test_size=0.2, random_state=42)"
   ]
  },
  {
   "cell_type": "code",
   "execution_count": 18,
   "id": "da01c9f3",
   "metadata": {},
   "outputs": [],
   "source": [
    "# 검증세트 분할\n",
    "x_train, x_val, y_train, y_val = train_test_split(x_train_all, y_train_all, stratify=y_train_all, test_size=0.2, random_state=42)"
   ]
  },
  {
   "cell_type": "code",
   "execution_count": 35,
   "id": "3eb033f6",
   "metadata": {},
   "outputs": [],
   "source": [
    "# 가중치를 기록하는 변수와 학습률 파라미터 추가\n",
    "\n",
    "class SingleLayer:\n",
    "    def __init__(self, learning_rate=0.1, l1=0, l2=0):\n",
    "        self.w = None\n",
    "        self.b = None\n",
    "        self.losses = []\n",
    "        self.val_losses = []\n",
    "        self.w_history = []\n",
    "        self.lr = learning_rate\n",
    "        self.l1 = l1\n",
    "        self.l2 = l2\n",
    "        \n",
    "    def forpass(self, x):\n",
    "        z = np.dot(x, self.w) + self.b # 직선 방정식을 계산\n",
    "        return z \n",
    "    \n",
    "    def backprop(self, x, err):\n",
    "        m = len(x)\n",
    "        w_grad = np.dot(x.T, err) / m # 가중치에 대한 그래디언트 계산\n",
    "        b_grad = np.sum(err) / m  # 절편에 대한 그래디언트 계산\n",
    "        return w_grad, b_grad\n",
    "    \n",
    "    def activation(self, z):\n",
    "        z = np.clip(z, -100, None) # 안전한 np.exp() 계산을 위해 \n",
    "        a = 1 / (1 + np.exp(-z)) # 시그모이드 계산 \n",
    "        \n",
    "        return a \n",
    "    def fit(self, x, y, epochs=100, x_val=None, y_val=None):\n",
    "        y = y.reshape(-1, 1)\n",
    "        y_val = y_val.reshape(-1, 1)\n",
    "        m = len(x)\n",
    "        self.w = np.ones((x.shape[1], 1))\n",
    "        self.b = 0\n",
    "        self.w_history.append(self.w.copy()) # 가중c치 기록 \n",
    "        \n",
    "        # 전체 샘플을 한번에 계산 : 배치 경사 하강법\n",
    "        for i in range(epochs):\n",
    "            z = self.forpass(x)\n",
    "            a = self.activation(z)\n",
    "\n",
    "            err = -(y - a)\n",
    "            # 오차를 역전파하여 그래디언트 계산 \n",
    "            w_grad, b_grad = self.backprop(x, err) # 역방향 계산\n",
    "\n",
    "            # 그래디언트에서 패널티 항의 미분 값을 더한다. \n",
    "            w_grad += self.l1 * np.sign(self.w) + self.l2 * self.w / m\n",
    "            # 가중치와 절편 업데이트 \n",
    "            self.w -= self.lr * w_grad\n",
    "            self.b -= self.lr * b_grad\n",
    "        \n",
    "            # 가중치 기록\n",
    "            self.w_history.append(self.w.copy())\n",
    "\n",
    "            # 안전한 로그 계산을 위해 클리핑한 후 손실을 누적 \n",
    "            a = np.clip(a, 1e-10, 1-1e-10)\n",
    "            \n",
    "            # 로그 손실과 규제 손실을 더하여 리스트에 추가\n",
    "            loss = -(y*np.log(a) + (1-y)*np.log(1-a))\n",
    "            \n",
    "            self.losses.append(loss + self.reg_loss() / m)\n",
    "\n",
    "\n",
    "            # 검증 세트에 대한 손실 계산\n",
    "            self.update_val_loss(x_val, y_val)\n",
    "    \n",
    "    def predict(self, x):\n",
    "        z = [self.forpass(x_i) for x_i in x]\n",
    "        return np.array(z) > 0 # 스텝 함수 적용\n",
    "        \n",
    "    def score(self, x, y):\n",
    "        return np.mean(self.predict(x)==y)\n",
    "    \n",
    "\n",
    "    def reg_loss(self):\n",
    "        return self.l1 * np.sum(np.abs(self.w)) + self.l2 / 2 * np.sum(self.w**2)\n",
    "    \n",
    "    def update_val_loss(self, x_val, y_val):\n",
    "        # 검증 세트 손실 기록 로지스틱 손실\n",
    "        m = len(x_val)\n",
    "        if x_val is None:\n",
    "            return \n",
    "        val_loss = 0\n",
    "        for i in range(len(x_val)):\n",
    "            z = self.forpass(x_val)\n",
    "            a = self.activation(z)\n",
    "            a = np.clip(a, 1e-10, 1-1e-10)\n",
    "            val_loss += -(y_val*np.log(a)+(1-y_val)*np.log(1-a))\n",
    "        self.val_losses.append(val_loss + self.reg_loss() / m)\n",
    "            "
   ]
  },
  {
   "cell_type": "code",
   "execution_count": 36,
   "id": "f316c605",
   "metadata": {},
   "outputs": [
    {
     "data": {
      "text/plain": [
       "0.6180412993599806"
      ]
     },
     "execution_count": 36,
     "metadata": {},
     "output_type": "execute_result"
    }
   ],
   "source": [
    "layer1 = SingleLayer()\n",
    "layer1.fit(x_train, y_train, x_val=x_val, y_val=y_val)\n",
    "layer1.score(x_val, y_val)"
   ]
  },
  {
   "cell_type": "code",
   "execution_count": 34,
   "id": "18416031",
   "metadata": {},
   "outputs": [
    {
     "data": {
      "image/png": "[encoded data removed]",
      "text/plain": [
       "<Figure size 432x288 with 1 Axes>"
      ]
     },
     "metadata": {
      "needs_background": "light"
     },
     "output_type": "display_data"
    }
   ],
   "source": [
    "w2 = [] # mean perimeter\n",
    "\n",
    "w3 = [] # mean area\n",
    "\n",
    "for w in layer1.w_history:\n",
    "    w2.append(w[2])\n",
    "    \n",
    "    w3.append(w[3])\n",
    "    \n",
    "plt.plot(w2, w3)\n",
    "plt.plot(w2[-1], w3[-1], 'ro')\n",
    "\n",
    "plt.xlabel('w[2]')\n",
    "plt.ylabel('w[3]')\n",
    "plt.show()\n",
    "# 스케일을 조정하지 않으면, 가중치 변화가 불안정하고, 최종 가중치를 찾는 과정이 비효율적\n"
   ]
  },
  {
   "cell_type": "code",
   "execution_count": 39,
   "id": "6c532577",
   "metadata": {},
   "outputs": [],
   "source": [
    "# 표준화 진행\n",
    "train_mean = np.mean(x_train, axis=0)\n",
    "\n",
    "train_std = np.std(x_train, axis=0)\n",
    "\n",
    "x_train_scaled = (x_train - train_mean) / train_std"
   ]
  },
  {
   "cell_type": "code",
   "execution_count": 41,
   "id": "b3bee94e",
   "metadata": {},
   "outputs": [],
   "source": [
    "layer2 = SingleLayer()\n",
    "layer2.fit(x_train_scaled, y_train, x_val=x_val, y_val=y_val)"
   ]
  },
  {
   "cell_type": "code",
   "execution_count": 42,
   "id": "31553c25",
   "metadata": {},
   "outputs": [
    {
     "data": {
      "image/png": "[encoded data removed]",
      "text/plain": [
       "<Figure size 432x288 with 1 Axes>"
      ]
     },
     "metadata": {
      "needs_background": "light"
     },
     "output_type": "display_data"
    }
   ],
   "source": [
    "w2 = [] # mean perimeter\n",
    "\n",
    "w3 = [] # mean area\n",
    "\n",
    "for w in layer2.w_history:\n",
    "    w2.append(w[2])\n",
    "    \n",
    "    w3.append(w[3])\n",
    "    \n",
    "plt.plot(w2, w3)\n",
    "plt.plot(w2[-1], w3[-1], 'ro')\n",
    "\n",
    "plt.xlabel('w[2]')\n",
    "plt.ylabel('w[3]')\n",
    "plt.show()\n",
    "# 스케일을 조정하지 않으면, 가중치 변화가 불안정하고, 최종 가중치를 찾는 과정이 비효율적\n"
   ]
  },
  {
   "cell_type": "code",
   "execution_count": 43,
   "id": "1e3156bd",
   "metadata": {},
   "outputs": [],
   "source": [
    "x_val_scaled = (x_val - train_mean) / train_std"
   ]
  },
  {
   "cell_type": "code",
   "execution_count": 44,
   "id": "6ec71958",
   "metadata": {},
   "outputs": [],
   "source": [
    "layer3 = SingleLayer()\n",
    "layer3.fit(x_train_scaled, y_train, x_val=x_val_scaled, y_val=y_val)"
   ]
  },
  {
   "cell_type": "code",
   "execution_count": 49,
   "id": "6fc39067",
   "metadata": {},
   "outputs": [
    {
     "data": {
      "text/plain": [
       "0.5374954715614056"
      ]
     },
     "execution_count": 49,
     "metadata": {},
     "output_type": "execute_result"
    }
   ],
   "source": [
    "layer3.score(x_val_scaled, y_val)"
   ]
  },
  {
   "cell_type": "code",
   "execution_count": 54,
   "id": "75f28786",
   "metadata": {},
   "outputs": [],
   "source": [
    "# 두개의 층을 가진 다층 신경망 \n",
    "\n",
    "class DualLayer:\n",
    "    def __init__(self, learning_rate=0.1, l1=0, l2=0):\n",
    "        self.w = None\n",
    "        self.b = None\n",
    "        self.losses = []\n",
    "        self.val_losses = []\n",
    "        self.w_history = []\n",
    "        self.lr = learning_rate\n",
    "        self.l1 = l1\n",
    "        self.l2 = l2\n",
    "        self.units = 2\n",
    "        \n",
    " \n",
    "\n",
    "    def forpass(self, x):\n",
    "        z = np.dot(x, self.w) + self.b # 직선 방정식을 계산\n",
    "        return z \n",
    "    \n",
    "    def backprop(self, x, err):\n",
    "        m = len(x) \n",
    "        \n",
    "        w2_grad = np.dot(a1.T, err) / m # 가중치에 대한 그래디언트 계산\n",
    "        b2_grad = np.sum(err) / m  # 절편에 대한 그래디언트 계산\n",
    "        # 시그모이드 함수까지 그래디언트 계산\n",
    "        err_to_hidden = np.dot(err, self.w2.T) * self.a1 * (1-self.a1)\n",
    "        # 은닉층의 가중치와 절편에 대한 그래디언트를 계산\n",
    "        w1_grad = np.dot(x.T, err_to_hidden) / m\n",
    "        b1_grad = np.sum(err_to_hidden, axis=0) / m\n",
    "        return w1_grad, b1_grad, w2_grad, b2_grad\n",
    "    def activation(self, z):\n",
    "        z = np.clip(z, -100, None) # 안전한 np.exp() 계산을 위해 \n",
    "        a = 1 / (1 + np.exp(-z)) # 시그모이드 계산 \n",
    "        \n",
    "        return a \n",
    "    def fit(self, x, y, epochs=None, x_val=None, y_val=None):\n",
    "        y = y.reshape(-1, 1)\n",
    "        y_val = y_val.reshape(-1, 1)\n",
    "        m = len(x)\n",
    "        self.w = np.ones((x.shape[1], 1))\n",
    "        self.b = 0\n",
    "        self.w_history.append(self.w.copy()) # 가중c치 기록 \n",
    "        \n",
    "        # 전체 샘플을 한번에 계산 : 배치 경사 하강법\n",
    "        for i in range(epochs):\n",
    "            z = self.forpass(x)\n",
    "            a = self.activation(z)\n",
    "\n",
    "            err = -(y - a)\n",
    "            # 오차를 역전파하여 그래디언트 계산 \n",
    "            w_grad, b_grad = self.backprop(x, err) # 역방향 계산\n",
    "\n",
    "            # 그래디언트에서 패널티 항의 미분 값을 더한다. \n",
    "            w_grad += self.l1 * np.sign(self.w) + self.l2 * self.w / m\n",
    "            # 가중치와 절편 업데이트 \n",
    "            self.w -= self.lr * w_grad\n",
    "            self.b -= self.lr * b_grad\n",
    "        \n",
    "            # 가중치 기록\n",
    "            self.w_history.append(self.w.copy())\n",
    "\n",
    "            # 안전한 로그 계산을 위해 클리핑한 후 손실을 누적 \n",
    "            a = np.clip(a, 1e-10, 1-1e-10)\n",
    "            \n",
    "            # 로그 손실과 규제 손실을 더하여 리스트에 추가\n",
    "            loss = -(y*np.log(a) + (1-y)*np.log(1-a))\n",
    "            \n",
    "            self.losses.append(loss + self.reg_loss() / m)\n",
    "\n",
    "\n",
    "            # 검증 세트에 대한 손실 계산\n",
    "            self.update_val_loss(x_val, y_val)\n",
    "    \n",
    "    def predict(self, x):\n",
    "        z = [self.forpass(x_i) for x_i in x]\n",
    "        return np.array(z) > 0 # 스텝 함수 적용\n",
    "        \n",
    "    def score(self, x, y):\n",
    "        return np.mean(self.predict(x)==y)\n",
    "    \n",
    "\n",
    "    def reg_loss(self):\n",
    "        return self.l1 * np.sum(np.abs(self.w)) + self.l2 / 2 * np.sum(self.w**2)\n",
    "    \n",
    "    def update_val_loss(self, x_val, y_val):\n",
    "        # 검증 세트 손실 기록 로지스틱 손실\n",
    "        m = len(x_val)\n",
    "        if x_val is None:\n",
    "            return \n",
    "        val_loss = 0\n",
    "        for i in range(len(x_val)):\n",
    "            z = self.forpass(x_val)\n",
    "            a = self.activation(z)\n",
    "            a = np.clip(a, 1e-10, 1-1e-10)\n",
    "            val_loss += -(y_val*np.log(a)+(1-y_val)*np.log(1-a))\n",
    "        self.val_losses.append(val_loss + self.reg_loss() / m)\n",
    "        \n",
    "\n",
    "class RandomInitNetwork(DualLayer):\n",
    "    def init_weight(self, n_features):\n",
    "        self.w1 = np.ones((n_features, self.units)) # (특성 개수, 은닉층의 크기)\n",
    "        self.b1 = np.zeros(self.units)\n",
    "        self.w2 = np.ones((self.units, 1))\n",
    "        self.b2 = 0\n",
    "\n"
   ]
  },
  {
   "cell_type": "code",
   "execution_count": 60,
   "id": "2649c1cd",
   "metadata": {},
   "outputs": [],
   "source": [
    "dual_later = DualLayer(l2=0.01)\n",
    "dual_later.init_weight(30)"
   ]
  },
  {
   "cell_type": "code",
   "execution_count": 61,
   "id": "bbb932ae",
   "metadata": {},
   "outputs": [
    {
     "ename": "NameError",
     "evalue": "name 'a1' is not defined",
     "output_type": "error",
     "traceback": [
      "\u001b[1;31m---------------------------------------------------------------------------\u001b[0m",
      "\u001b[1;31mNameError\u001b[0m                                 Traceback (most recent call last)",
      "Input \u001b[1;32mIn [61]\u001b[0m, in \u001b[0;36m<cell line: 1>\u001b[1;34m()\u001b[0m\n\u001b[1;32m----> 1\u001b[0m \u001b[43mdual_later\u001b[49m\u001b[38;5;241;43m.\u001b[39;49m\u001b[43mfit\u001b[49m\u001b[43m(\u001b[49m\u001b[43mx_train_scaled\u001b[49m\u001b[43m,\u001b[49m\u001b[43m \u001b[49m\u001b[43my_train\u001b[49m\u001b[43m,\u001b[49m\u001b[43m \u001b[49m\u001b[43mepochs\u001b[49m\u001b[38;5;241;43m=\u001b[39;49m\u001b[38;5;241;43m20000\u001b[39;49m\u001b[43m,\u001b[49m\u001b[43m \u001b[49m\u001b[43mx_val\u001b[49m\u001b[38;5;241;43m=\u001b[39;49m\u001b[43mx_val_scaled\u001b[49m\u001b[43m,\u001b[49m\u001b[43m \u001b[49m\u001b[43my_val\u001b[49m\u001b[38;5;241;43m=\u001b[39;49m\u001b[43my_val\u001b[49m\u001b[43m)\u001b[49m\n",
      "Input \u001b[1;32mIn [54]\u001b[0m, in \u001b[0;36mDualLayer.fit\u001b[1;34m(self, x, y, epochs, x_val, y_val)\u001b[0m\n\u001b[0;32m     54\u001b[0m err \u001b[38;5;241m=\u001b[39m \u001b[38;5;241m-\u001b[39m(y \u001b[38;5;241m-\u001b[39m a)\n\u001b[0;32m     55\u001b[0m \u001b[38;5;66;03m# 오차를 역전파하여 그래디언트 계산 \u001b[39;00m\n\u001b[1;32m---> 56\u001b[0m w_grad, b_grad \u001b[38;5;241m=\u001b[39m \u001b[38;5;28;43mself\u001b[39;49m\u001b[38;5;241;43m.\u001b[39;49m\u001b[43mbackprop\u001b[49m\u001b[43m(\u001b[49m\u001b[43mx\u001b[49m\u001b[43m,\u001b[49m\u001b[43m \u001b[49m\u001b[43merr\u001b[49m\u001b[43m)\u001b[49m \u001b[38;5;66;03m# 역방향 계산\u001b[39;00m\n\u001b[0;32m     58\u001b[0m \u001b[38;5;66;03m# 그래디언트에서 패널티 항의 미분 값을 더한다. \u001b[39;00m\n\u001b[0;32m     59\u001b[0m w_grad \u001b[38;5;241m+\u001b[39m\u001b[38;5;241m=\u001b[39m \u001b[38;5;28mself\u001b[39m\u001b[38;5;241m.\u001b[39ml1 \u001b[38;5;241m*\u001b[39m np\u001b[38;5;241m.\u001b[39msign(\u001b[38;5;28mself\u001b[39m\u001b[38;5;241m.\u001b[39mw) \u001b[38;5;241m+\u001b[39m \u001b[38;5;28mself\u001b[39m\u001b[38;5;241m.\u001b[39ml2 \u001b[38;5;241m*\u001b[39m \u001b[38;5;28mself\u001b[39m\u001b[38;5;241m.\u001b[39mw \u001b[38;5;241m/\u001b[39m m\n",
      "Input \u001b[1;32mIn [54]\u001b[0m, in \u001b[0;36mDualLayer.backprop\u001b[1;34m(self, x, err)\u001b[0m\n\u001b[0;32m     25\u001b[0m \u001b[38;5;28;01mdef\u001b[39;00m \u001b[38;5;21mbackprop\u001b[39m(\u001b[38;5;28mself\u001b[39m, x, err):\n\u001b[0;32m     26\u001b[0m     m \u001b[38;5;241m=\u001b[39m \u001b[38;5;28mlen\u001b[39m(x) \n\u001b[1;32m---> 28\u001b[0m     w2_grad \u001b[38;5;241m=\u001b[39m np\u001b[38;5;241m.\u001b[39mdot(\u001b[43ma1\u001b[49m\u001b[38;5;241m.\u001b[39mT, err) \u001b[38;5;241m/\u001b[39m m \u001b[38;5;66;03m# 가중치에 대한 그래디언트 계산\u001b[39;00m\n\u001b[0;32m     29\u001b[0m     b2_grad \u001b[38;5;241m=\u001b[39m np\u001b[38;5;241m.\u001b[39msum(err) \u001b[38;5;241m/\u001b[39m m  \u001b[38;5;66;03m# 절편에 대한 그래디언트 계산\u001b[39;00m\n\u001b[0;32m     30\u001b[0m     \u001b[38;5;66;03m# 시그모이드 함수까지 그래디언트 계산\u001b[39;00m\n",
      "\u001b[1;31mNameError\u001b[0m: name 'a1' is not defined"
     ]
    }
   ],
   "source": [
    "dual_later.fit(x_train_scaled, y_train, epochs=20000, x_val=x_val_scaled, y_val=y_val)"
   ]
  },
  {
   "cell_type": "code",
   "execution_count": null,
   "id": "5b91ba48",
   "metadata": {},
   "outputs": [],
   "source": []
  }
 ],
 "metadata": {
  "kernelspec": {
   "display_name": "Python 3 (ipykernel)",
   "language": "python",
   "name": "python3"
  },
  "language_info": {
   "codemirror_mode": {
    "name": "ipython",
    "version": 3
   },
   "file_extension": ".py",
   "mimetype": "text/x-python",
   "name": "python",
   "nbconvert_exporter": "python",
   "pygments_lexer": "ipython3",
   "version": "3.9.12"
  }
 },
 "nbformat": 4,
 "nbformat_minor": 5
}
